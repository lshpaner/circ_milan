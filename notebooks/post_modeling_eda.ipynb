{
 "cells": [
  {
   "cell_type": "markdown",
   "metadata": {},
   "source": [
    "# Post-Modeling Exploratory Data Analysis (EDA)"
   ]
  },
  {
   "cell_type": "markdown",
   "metadata": {},
   "source": [
    "## Import Requisite Libraries"
   ]
  },
  {
   "cell_type": "code",
   "execution_count": null,
   "metadata": {},
   "outputs": [],
   "source": [
    "######################## Standard Library Imports ##############################\n",
    "import pandas as pd\n",
    "import numpy as np\n",
    "import os\n",
    "import sys\n",
    "\n",
    "# Add the parent directory to sys.path to access 'functions.py'\n",
    "sys.path.append(os.path.join(os.pardir))\n",
    "\n",
    "\n",
    "from eda_toolkit import ensure_directory, generate_table1\n",
    "\n",
    "######################## Modeling Library Imports ##############################\n",
    "import model_tuner\n",
    "import eda_toolkit\n",
    "import matplotlib.pyplot as plt\n",
    "\n",
    "from functions import crosstab_plot\n",
    "\n",
    "\n",
    "# Add the parent directory to sys.path to access 'functions.py'\n",
    "sys.path.append(os.path.join(os.pardir))\n",
    "\n",
    "print(\n",
    "    f\"This project uses: \\n \\n Python {sys.version.split()[0]} \\n model_tuner \"\n",
    "    f\"{model_tuner.__version__} \\n eda_toolkit {eda_toolkit.__version__}\"\n",
    ")"
   ]
  },
  {
   "cell_type": "markdown",
   "metadata": {},
   "source": [
    "## Set Paths & Read in the Data"
   ]
  },
  {
   "cell_type": "code",
   "execution_count": null,
   "metadata": {},
   "outputs": [],
   "source": [
    "# Define your base paths\n",
    "# `base_path`` represents the parent directory of your current working directory\n",
    "base_path = os.path.join(os.pardir)\n",
    "# Go up one level from 'notebooks' to the parent directory, then into the 'data' folder\n",
    "\n",
    "data_path = os.path.join(os.pardir, \"data\")\n",
    "image_path_png = os.path.join(base_path, \"images\", \"png_images\", \"modeling\")\n",
    "image_path_svg = os.path.join(base_path, \"images\", \"svg_images\", \"modeling\")\n",
    "\n",
    "# Use the function to ensure the 'data' directory exists\n",
    "ensure_directory(data_path)\n",
    "ensure_directory(image_path_png)\n",
    "ensure_directory(image_path_svg)"
   ]
  },
  {
   "cell_type": "code",
   "execution_count": null,
   "metadata": {},
   "outputs": [],
   "source": [
    "data_path = \"../data/processed/\"\n",
    "model_path = \"../mlruns/models/\""
   ]
  },
  {
   "cell_type": "code",
   "execution_count": null,
   "metadata": {},
   "outputs": [],
   "source": [
    "df = pd.read_parquet(os.path.join(data_path, \"X.parquet\"))\n",
    "X = pd.read_parquet(os.path.join(data_path, \"X.parquet\"))\n",
    "y = pd.read_parquet(os.path.join(data_path, \"y_Bleeding_Edema_Outcome.parquet\"))\n",
    "df = df.join(y, how=\"inner\", on=\"patient_id\")\n",
    "df.head()"
   ]
  },
  {
   "cell_type": "code",
   "execution_count": null,
   "metadata": {},
   "outputs": [],
   "source": []
  },
  {
   "cell_type": "code",
   "execution_count": null,
   "metadata": {},
   "outputs": [],
   "source": [
    "df.columns.to_list()  # list the columns in the dataframe"
   ]
  },
  {
   "cell_type": "markdown",
   "metadata": {},
   "source": [
    "## Bin Age For EDA"
   ]
  },
  {
   "cell_type": "code",
   "execution_count": null,
   "metadata": {},
   "outputs": [],
   "source": [
    "# create bins for age along with labels such that age as a continuous series\n",
    "# can be converted to something more manageable for visualization and analysis\n",
    "bin_ages = [18, 30, 40, 50, 60, 70, 80, 90, 100]\n",
    "label_ages = [\n",
    "    \"18-29\",\n",
    "    \"30-39\",\n",
    "    \"40-49\",\n",
    "    \"50-59\",\n",
    "    \"60-69\",\n",
    "    \"70-79\",\n",
    "    \"80-89\",\n",
    "    \"90-99\",\n",
    "]\n",
    "\n",
    "df[\"age_group\"] = pd.cut(\n",
    "    df[\"Age_years\"],\n",
    "    bins=bin_ages,\n",
    "    labels=label_ages,\n",
    "    right=False,  # <-- include left edge, exclude right\n",
    "    include_lowest=True,  # <-- include the lowest value (e.g. 18)\n",
    ")"
   ]
  },
  {
   "cell_type": "markdown",
   "metadata": {},
   "source": [
    "## Rename DataFrame columns to be more readable"
   ]
  },
  {
   "cell_type": "code",
   "execution_count": null,
   "metadata": {},
   "outputs": [],
   "source": [
    "df_rename = df.copy()  # rename df to avoid confusion with the original df"
   ]
  },
  {
   "cell_type": "code",
   "execution_count": null,
   "metadata": {},
   "outputs": [],
   "source": [
    "df_rename = df_rename.rename(\n",
    "    columns={\n",
    "        \"Intraoperative_Blood_Loss_ml\": \"Intraoperative Blood Loss\",\n",
    "        \"age_group\": \"Age Group\",\n",
    "        \"Surgical_Time_min\": \"Surgical Time (min)\",\n",
    "        \"Intraop_Mean_Heart_Rate_bpm\": \"Intraoperative Mean Heart Rate (BPM)\",\n",
    "    }\n",
    ")"
   ]
  },
  {
   "cell_type": "markdown",
   "metadata": {},
   "source": [
    "## Age vs. BMI"
   ]
  },
  {
   "cell_type": "code",
   "execution_count": null,
   "metadata": {},
   "outputs": [],
   "source": [
    "from eda_toolkit import box_violin_plot\n",
    "\n",
    "metrics_list = [\n",
    "    \"BMI\",\n",
    "    \"Intraoperative Blood Loss\",\n",
    "    \"Intraoperative Mean Heart Rate (BPM)\",\n",
    "    \"Surgical Time (min)\",\n",
    "]\n",
    "metrics_boxplot_comp = [\"Age Group\"]\n",
    "metrics_comp = [\"Age Group\"]\n",
    "\n",
    "box_violin_plot(\n",
    "    df=df_rename,\n",
    "    metrics_list=metrics_list,\n",
    "    metrics_comp=metrics_comp,\n",
    "    image_path_png=image_path_png,\n",
    "    image_path_svg=image_path_svg,\n",
    "    save_plots=True,\n",
    "    show_plot=\"grid\",\n",
    "    show_legend=False,\n",
    "    plot_type=\"boxplot\",\n",
    "    xlabel_rot=90,\n",
    "    text_wrap=50,\n",
    ")"
   ]
  },
  {
   "cell_type": "markdown",
   "metadata": {},
   "source": [
    "## Outcome Value Counts"
   ]
  },
  {
   "cell_type": "code",
   "execution_count": null,
   "metadata": {},
   "outputs": [],
   "source": [
    "df[\"Bleeding_Edema_Outcome\"].map(\n",
    "    {0: \"No Complications\", 1: \"Complications\"}\n",
    ").value_counts().plot(kind=\"bar\", rot=0, title=\"Complications Outcome\")\n",
    "plt.xlabel(\"Outcome\")\n",
    "plt.ylabel(\"Count\")\n",
    "plt.savefig(\n",
    "    os.path.join(image_path_svg, \"outcome_count.svg\"),\n",
    "    bbox_inches=\"tight\",\n",
    ")\n",
    "plt.show()\n",
    "\n",
    "df[\"Bleeding_Edema_Outcome\"].value_counts()"
   ]
  },
  {
   "cell_type": "markdown",
   "metadata": {},
   "source": [
    "## Table 1 (With Respect to Outcome)"
   ]
  },
  {
   "cell_type": "code",
   "execution_count": null,
   "metadata": {},
   "outputs": [],
   "source": [
    "table1_cont_outcome = generate_table1(\n",
    "    df,\n",
    "    include_types=\"continuous\",\n",
    "    groupby_col=\"Bleeding_Edema_Outcome\",\n",
    "    value_counts=True,\n",
    "    # apply_bonferroni=True,\n",
    "    # apply_bh_fdr=True,\n",
    "    # use_fisher_exact=True,\n",
    "    decimal_places=2,\n",
    ")"
   ]
  },
  {
   "cell_type": "code",
   "execution_count": null,
   "metadata": {},
   "outputs": [],
   "source": [
    "table1_cont_outcome = table1_cont_outcome.drop(\n",
    "    columns=[\"Type\", \"Missing (n)\", \"Missing (%)\", \"Proportion (%)\"]\n",
    ")\n",
    "\n",
    "table1_cont_outcome"
   ]
  },
  {
   "cell_type": "code",
   "execution_count": null,
   "metadata": {},
   "outputs": [],
   "source": [
    "table1_cat_outcome = generate_table1(\n",
    "    df,\n",
    "    include_types=\"categorical\",\n",
    "    groupby_col=\"Bleeding_Edema_Outcome\",\n",
    "    value_counts=True,\n",
    "    # apply_bonferroni=True,\n",
    "    # apply_bh_fdr=True,\n",
    "    # use_fisher_exact=True,\n",
    "    decimal_places=2,\n",
    ")"
   ]
  },
  {
   "cell_type": "code",
   "execution_count": null,
   "metadata": {},
   "outputs": [],
   "source": [
    "table1_cat_outcome = table1_cat_outcome.drop(\n",
    "    columns=[\"Type\", \"Missing (n)\", \"Missing (%)\"]\n",
    ")\n",
    "table1_cat_outcome"
   ]
  },
  {
   "cell_type": "markdown",
   "metadata": {},
   "source": [
    "## Table 1 (With Respect to Surgical Technique)"
   ]
  },
  {
   "cell_type": "code",
   "execution_count": null,
   "metadata": {},
   "outputs": [],
   "source": [
    "table1_cont_surgical_technique = generate_table1(\n",
    "    df,\n",
    "    include_types=\"continuous\",\n",
    "    groupby_col=\"Surgical_Technique\",\n",
    "    value_counts=True,\n",
    "    # apply_bonferroni=True,\n",
    "    # apply_bh_fdr=True,\n",
    "    # use_fisher_exact=True,\n",
    "    decimal_places=2,\n",
    ")\n",
    "table1_cont_surgical_technique = table1_cont_surgical_technique.drop(\n",
    "    columns=[\"Type\", \"Missing (n)\", \"Missing (%)\", \"Proportion (%)\"]\n",
    ")\n",
    "\n",
    "table1_cont_surgical_technique"
   ]
  },
  {
   "cell_type": "code",
   "execution_count": null,
   "metadata": {},
   "outputs": [],
   "source": [
    "table1_cat_surgical_technique = generate_table1(\n",
    "    df,\n",
    "    include_types=\"categorical\",\n",
    "    groupby_col=\"Surgical_Technique\",\n",
    "    value_counts=True,\n",
    "    # apply_bonferroni=True,\n",
    "    # apply_bh_fdr=True,\n",
    "    # use_fisher_exact=True,\n",
    "    decimal_places=2,\n",
    ")\n",
    "table1_cat_surgical_technique = table1_cat_surgical_technique.drop(\n",
    "    columns=[\"Type\", \"Missing (n)\", \"Missing (%)\"]\n",
    ")\n",
    "rows_to_drop = [\n",
    "    \"Surgical_Technique\",\n",
    "    \"Surgical_Technique = 0\",\n",
    "    \"Surgical_Technique = 1\",\n",
    "]\n",
    "\n",
    "table1_cat_surgical_technique = table1_cat_surgical_technique[\n",
    "    ~table1_cat_surgical_technique[\"Variable\"].isin(rows_to_drop)\n",
    "]\n",
    "\n",
    "table1_cat_surgical_technique"
   ]
  },
  {
   "cell_type": "markdown",
   "metadata": {},
   "source": [
    "### Numerical Variable BoxPlot"
   ]
  },
  {
   "cell_type": "code",
   "execution_count": null,
   "metadata": {},
   "outputs": [],
   "source": [
    "variable_list = df.columns.to_list()"
   ]
  },
  {
   "cell_type": "code",
   "execution_count": null,
   "metadata": {},
   "outputs": [],
   "source": [
    "plt.figure(figsize=(19, 6))\n",
    "\n",
    "# Create the boxplot (remove the invalid linestyle argument)\n",
    "ax = df[variable_list].boxplot(vert=False)\n",
    "\n",
    "# Thicken all boxplot lines: boxes, whiskers, caps, fliers, medians\n",
    "for line in ax.get_lines():\n",
    "    line.set_linewidth(2.5)  # change thickness as needed\n",
    "\n",
    "# Reverse the y-axis so the first variable appears at the top\n",
    "ax.invert_yaxis()\n",
    "\n",
    "# Customize ticks and labels\n",
    "plt.xticks(rotation=0, ha=\"right\")\n",
    "plt.xlabel(\"Value\")\n",
    "plt.ylabel(\"Variable\")\n",
    "plt.title(\"Distributions of Numeric Variables\")\n",
    "\n",
    "# Adjust layout and save\n",
    "plt.tight_layout()\n",
    "plt.savefig(\n",
    "    os.path.join(image_path_svg, \"numeric_variable_distributions.svg\"),\n",
    "    bbox_inches=\"tight\",\n",
    ")\n",
    "\n",
    "plt.show()"
   ]
  },
  {
   "cell_type": "markdown",
   "metadata": {},
   "source": [
    "## Strobe Diagram"
   ]
  },
  {
   "cell_type": "markdown",
   "metadata": {},
   "source": [
    "### Original Strobe (for Paper)"
   ]
  },
  {
   "cell_type": "code",
   "execution_count": null,
   "metadata": {},
   "outputs": [],
   "source": [
    "from graphviz import Digraph\n",
    "\n",
    "# Create revised STROBE diagram with horizontal surgical modality box\n",
    "dot = Digraph(\n",
    "    comment=\"Enhanced STROBE Diagram with Modality Highlight\",\n",
    "    format=\"svg\",\n",
    "    directory=image_path_svg,\n",
    ")\n",
    "dot.attr(rankdir=\"TB\", size=\"10\")\n",
    "\n",
    "# Nodes\n",
    "dot.node(\"A\", \"Patients Evaluated\\n(n = 202)\", shape=\"box\")\n",
    "dot.node(\"B\", \"Excluded: Under 18\\n(n = 8)\", shape=\"box\")\n",
    "dot.node(\"C\", \"Final Study Cohort:\\nAdult Males ≥ 18\\n(n = 194)\", shape=\"box\")\n",
    "dot.node(\n",
    "    \"D\",\n",
    "    \"Data Preprocessing\\n• Feature engineering\\n• Comorbidity filtering\\n• No missing data\",\n",
    "    shape=\"box\",\n",
    ")\n",
    "dot.node(\n",
    "    \"D2\",\n",
    "    \"Surgical Modality\\n• Traditional (n = 132)\\n• Laser (n = 62)\",\n",
    "    shape=\"box\",\n",
    ")\n",
    "dot.node(\n",
    "    \"E\",\n",
    "    \"Modeling and Evaluation\\n• LR, RF, SVM\\n• 10-fold CV\\n• Balanced class weights\",\n",
    "    shape=\"box\",\n",
    ")\n",
    "dot.node(\n",
    "    \"F\",\n",
    "    label=f\"Model Calibration\\n• Platt scaling\\n• Threshold tuning (𝛽 = 1, 2)\",\n",
    "    shape=\"box\",\n",
    ")\n",
    "\n",
    "dot.node(\n",
    "    \"G\",\n",
    "    \"Primary Outcome\\nBleeding, Edema, Pain, or Infection\\nwithin 7 days\",\n",
    "    shape=\"box\",\n",
    ")\n",
    "dot.node(\n",
    "    \"H\",\n",
    "    \"Final Sample Used for Modeling\\n(n = 194, 100%)\",\n",
    "    shape=\"box\",\n",
    ")\n",
    "\n",
    "# Edges (one at a time due to prior error)\n",
    "dot.edge(\"A\", \"B\")\n",
    "dot.edge(\"B\", \"C\")\n",
    "dot.edge(\"C\", \"D\")\n",
    "dot.edge(\"D\", \"D2\")\n",
    "dot.edge(\"D2\", \"E\")\n",
    "dot.edge(\"E\", \"F\")\n",
    "dot.edge(\"F\", \"G\")\n",
    "dot.edge(\"G\", \"H\")\n",
    "\n",
    "# Render diagram\n",
    "dot.render(\"strobe_modality_emphasized_final\")\n",
    "dot"
   ]
  },
  {
   "cell_type": "code",
   "execution_count": null,
   "metadata": {},
   "outputs": [],
   "source": [
    "from graphviz import Digraph\n",
    "\n",
    "dot = Digraph(\n",
    "    comment=\"STROBE Diagram split after E\",\n",
    "    format=\"svg\",\n",
    "    directory=image_path_svg,\n",
    ")\n",
    "dot.attr(rankdir=\"TB\", size=\"10\")\n",
    "\n",
    "# 1–4: vertical spine\n",
    "for id, label in [\n",
    "    (\"A\", \"Patients Evaluated\\n(n = 202)\"),\n",
    "    (\"B\", \"Excluded: Under 18\\n(n = 8)\"),\n",
    "    (\"C\", \"Final Cohort:\\nAdult Males ≥ 18\\n(n = 194)\"),\n",
    "    (\n",
    "        \"D\",\n",
    "        \"Data Preprocessing\\n• Feature eng\\n• Comorbidity filtering\\n• No missing data\",\n",
    "    ),\n",
    "]:\n",
    "    dot.node(id, label, shape=\"box\")\n",
    "\n",
    "# 5: branch point\n",
    "dot.node(\"D2\", \"Surgical Modality\\n• Traditional (n=132)\\n• Laser (n=62)\", shape=\"box\")\n",
    "\n",
    "# 6–9: downstream boxes\n",
    "for id, label in [\n",
    "    (\"E\", \"Modeling & Evaluation\\n• LR, RF, SVM\\n• 10-fold CV\\n• Balanced weights\"),\n",
    "    (\"F\", \"Model Calibration\\n• Platt scaling\\n• Threshold tuning (β=1,2)\"),\n",
    "    (\"G\", \"Primary Outcomes\\nBleeding, Edema, Pain, Infection\\nwithin 7 days\"),\n",
    "    (\"H\", \"Final Sample for Modeling\\n(n=194, 100%)\"),\n",
    "]:\n",
    "    dot.node(id, label, shape=\"box\")\n",
    "\n",
    "# connect vertical spine through D2 → E\n",
    "dot.edge(\"A\", \"B\")\n",
    "dot.edge(\"B\", \"C\")\n",
    "dot.edge(\"C\", \"D\")\n",
    "dot.edge(\"D\", \"D2\")\n",
    "dot.edge(\"D2\", \"E\")\n",
    "\n",
    "# now force E, F, G, H all on the same rank (i.e. horizontal)\n",
    "with dot.subgraph() as s:\n",
    "    s.attr(rank=\"same\")\n",
    "    for n in (\"E\", \"F\", \"G\", \"H\"):\n",
    "        s.node(n)\n",
    "\n",
    "# chain them left→right\n",
    "dot.edge(\"E\", \"F\")\n",
    "dot.edge(\"F\", \"G\")\n",
    "dot.edge(\"G\", \"H\")\n",
    "\n",
    "dot.render(\"strobe_split_after_E\")\n",
    "dot"
   ]
  },
  {
   "cell_type": "code",
   "execution_count": null,
   "metadata": {},
   "outputs": [],
   "source": [
    "df"
   ]
  },
  {
   "cell_type": "markdown",
   "metadata": {},
   "source": [
    "## Outcome by Risk Factors and Surgical Techniques"
   ]
  },
  {
   "cell_type": "code",
   "execution_count": null,
   "metadata": {},
   "outputs": [],
   "source": [
    "bar_list = [\n",
    "    \"BMI_Category_Overweight\",\n",
    "    \"BMI_Category_Underweight\",\n",
    "    \"BMI_Category_Obese\",\n",
    "    \"Surgical_Technique\",\n",
    "]"
   ]
  },
  {
   "cell_type": "code",
   "execution_count": null,
   "metadata": {},
   "outputs": [],
   "source": [
    "df_binary_list = df.copy()\n",
    "df_binary_list[\"BMI_Category_Overweight\"] = df_binary_list[\n",
    "    \"BMI_Category_Overweight\"\n",
    "].map({0: \"Not Overweight\", 1: \"Overweight\"})\n",
    "df_binary_list[\"BMI_Category_Underweight\"] = df_binary_list[\n",
    "    \"BMI_Category_Underweight\"\n",
    "].map({0: \"Not Underweight\", 1: \"Underweight\"})\n",
    "df_binary_list[\"BMI_Category_Obese\"] = df_binary_list[\"BMI_Category_Obese\"].map(\n",
    "    {0: \"Not Obese\", 1: \"Obese\"}\n",
    ")\n",
    "df_binary_list[\"Surgical_Technique\"] = df_binary_list[\"Surgical_Technique\"].map(\n",
    "    {0: \"Traditional Circumcision\", 1: \"Laser Circumcision\"}\n",
    ")"
   ]
  },
  {
   "cell_type": "code",
   "execution_count": null,
   "metadata": {},
   "outputs": [],
   "source": [
    "## custom color schema\n",
    "surg_tech_color = {\"Surgical_Technique\": [\"#1f77b4\", \"#203764\"]}"
   ]
  },
  {
   "cell_type": "markdown",
   "metadata": {},
   "source": [
    "###  Count Crosstab Plot"
   ]
  },
  {
   "cell_type": "code",
   "execution_count": null,
   "metadata": {},
   "outputs": [],
   "source": [
    "crosstab_plot(\n",
    "    df=df_binary_list,\n",
    "    list_name=bar_list,\n",
    "    label1=\"No Complications\",\n",
    "    label2=\"Complications\",\n",
    "    figsize=(12, 10),\n",
    "    bbox_to_anchor=(0.5, -0.25),\n",
    "    w_pad=4,\n",
    "    h_pad=4,\n",
    "    normalize=False,\n",
    "    image_path_svg=image_path_svg,\n",
    "    string=\"outcome_by_feature\",\n",
    "    save_plots=True,\n",
    "    outcome=\"Bleeding_Edema_Outcome\",\n",
    "    show_value_counts=True,\n",
    "    color_schema=surg_tech_color,\n",
    ")"
   ]
  },
  {
   "cell_type": "markdown",
   "metadata": {},
   "source": [
    "###  Normalized Crosstab Plot"
   ]
  },
  {
   "cell_type": "code",
   "execution_count": null,
   "metadata": {},
   "outputs": [],
   "source": [
    "crosstab_plot(\n",
    "    df=df_binary_list,\n",
    "    list_name=bar_list,\n",
    "    label1=\"No Complications\",\n",
    "    label2=\"Complications\",\n",
    "    figsize=(12, 10),\n",
    "    bbox_to_anchor=(0.5, -0.25),\n",
    "    w_pad=4,\n",
    "    h_pad=4,\n",
    "    normalize=True,\n",
    "    image_path_svg=image_path_svg,\n",
    "    string=\"outcome_by_feature_normalized\",\n",
    "    save_plots=True,\n",
    "    outcome=\"Bleeding_Edema_Outcome\",\n",
    "    show_value_counts=True,\n",
    "    color_schema=surg_tech_color,\n",
    ")"
   ]
  },
  {
   "cell_type": "code",
   "execution_count": null,
   "metadata": {},
   "outputs": [],
   "source": [
    "df"
   ]
  },
  {
   "cell_type": "code",
   "execution_count": null,
   "metadata": {},
   "outputs": [],
   "source": [
    "df_copy = df.copy()\n",
    "df_copy[\"Bleeding_Edema_Outcome\"] = df_copy[\"Bleeding_Edema_Outcome\"].map(\n",
    "    {0: \"No Complications\", 1: \"Complications\"}\n",
    ")"
   ]
  },
  {
   "cell_type": "code",
   "execution_count": null,
   "metadata": {},
   "outputs": [],
   "source": [
    "from eda_toolkit import scatter_fit_plot\n",
    "\n",
    "scatter_fit_plot(\n",
    "    df=df_copy,\n",
    "    all_vars=df[[col for col in df_copy.columns if df_copy[col].nunique() > 2]]\n",
    "    .select_dtypes(np.number)\n",
    "    .columns.to_list(),\n",
    "    show_legend=True,\n",
    "    show_plot=\"grid\",\n",
    "    label_fontsize=14,\n",
    "    tick_fontsize=12,\n",
    "    add_best_fit_line=True,\n",
    "    scatter_color=\"#000000\",\n",
    "    show_correlation=True,\n",
    "    text_wrap=40,\n",
    "    hue=\"Bleeding_Edema_Outcome\",\n",
    "    hue_palette={\"No Complications\": \"#0000F2\", \"Complications\": \"red\"},\n",
    "    image_path_png=image_path_png,\n",
    "    image_path_svg=image_path_svg,\n",
    "    save_plots=\"grid\",\n",
    ")"
   ]
  }
 ],
 "metadata": {
  "kernelspec": {
   "display_name": "venv_circ_311",
   "language": "python",
   "name": "python3"
  },
  "language_info": {
   "codemirror_mode": {
    "name": "ipython",
    "version": 3
   },
   "file_extension": ".py",
   "mimetype": "text/x-python",
   "name": "python",
   "nbconvert_exporter": "python",
   "pygments_lexer": "ipython3",
   "version": "3.11.11"
  }
 },
 "nbformat": 4,
 "nbformat_minor": 2
}
