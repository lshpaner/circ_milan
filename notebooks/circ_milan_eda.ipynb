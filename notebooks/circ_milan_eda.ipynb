{
 "cells": [
  {
   "cell_type": "markdown",
   "metadata": {},
   "source": [
    "# Exploratory Data Analysis"
   ]
  },
  {
   "cell_type": "markdown",
   "metadata": {},
   "source": [
    "## Import Requisite Libraries"
   ]
  },
  {
   "cell_type": "code",
   "execution_count": null,
   "metadata": {},
   "outputs": [],
   "source": [
    "######################## Standard Library Imports ##############################\n",
    "import pandas as pd\n",
    "import numpy as np\n",
    "from scipy.stats import gaussian_kde\n",
    "from itertools import combinations\n",
    "import os\n",
    "import sys\n",
    "\n",
    "########################## Plotting Libraries ##################################\n",
    "import matplotlib.pyplot as plt\n",
    "import seaborn as sns\n",
    "import eda_toolkit\n",
    "from eda_toolkit import (\n",
    "    ensure_directory,\n",
    "    kde_distributions,\n",
    "    box_violin_plot,\n",
    "    stacked_crosstab_plot,\n",
    "    flex_corr_matrix,\n",
    "    box_violin_plot,\n",
    "    highlight_columns,\n",
    "    scatter_fit_plot,\n",
    "    generate_table1,\n",
    ")\n",
    "\n",
    "################################################################################\n",
    "\n",
    "# Add the parent directory to sys.path to access 'functions.py'\n",
    "sys.path.append(os.path.join(os.pardir))\n",
    "\n",
    "from python_scripts.functions import *  # import custom functions\n",
    "\n",
    "print(f\"This project uses Python {sys.version.split()[0]}.\")\n",
    "print(f\"This project uses EDA_Toolkit {eda_toolkit.__version__}.\")"
   ]
  },
  {
   "cell_type": "markdown",
   "metadata": {},
   "source": [
    "## Read in the Data"
   ]
  },
  {
   "cell_type": "code",
   "execution_count": null,
   "metadata": {},
   "outputs": [],
   "source": [
    "# Define your base paths\n",
    "# `base_path`` represents the parent directory of your current working directory\n",
    "base_path = os.path.join(os.pardir)\n",
    "data_path = os.path.join(base_path, \"data\")\n",
    "image_path_png = os.path.join(base_path, \"images\", \"png_images\")\n",
    "image_path_svg = os.path.join(base_path, \"images\", \"svg_images\")\n",
    "\n",
    "# Ensure that each directory exists\n",
    "ensure_directory(data_path)\n",
    "ensure_directory(image_path_png)\n",
    "ensure_directory(image_path_svg)"
   ]
  },
  {
   "cell_type": "code",
   "execution_count": null,
   "metadata": {},
   "outputs": [],
   "source": [
    "# read in the data, set index to \"ID\"\n",
    "circ_eda = pd.read_csv(os.path.join(data_path, \"circ_eda.csv\")).set_index(\"patient_id\")"
   ]
  },
  {
   "cell_type": "code",
   "execution_count": null,
   "metadata": {},
   "outputs": [],
   "source": [
    "circ_eda.columns.to_list()"
   ]
  },
  {
   "cell_type": "code",
   "execution_count": null,
   "metadata": {},
   "outputs": [],
   "source": [
    "circ_eda.head()  # inspect first five rows of dataframe"
   ]
  },
  {
   "cell_type": "code",
   "execution_count": null,
   "metadata": {},
   "outputs": [],
   "source": [
    "circ_eda = circ_eda.drop(columns=[\"Birthday\"])  # drop unused col"
   ]
  },
  {
   "cell_type": "code",
   "execution_count": null,
   "metadata": {},
   "outputs": [],
   "source": [
    "circ_eda = circ_eda[circ_eda[\"Age_years\"] >= 18]"
   ]
  },
  {
   "cell_type": "code",
   "execution_count": null,
   "metadata": {},
   "outputs": [],
   "source": [
    "circ_eda.columns"
   ]
  },
  {
   "cell_type": "code",
   "execution_count": null,
   "metadata": {},
   "outputs": [],
   "source": [
    "table1_cont = generate_table1(\n",
    "    circ_eda, include_types=\"continuous\", groupby_col=\"Surgical_Technique\"\n",
    ")"
   ]
  },
  {
   "cell_type": "code",
   "execution_count": null,
   "metadata": {},
   "outputs": [],
   "source": [
    "print(table1_cont)"
   ]
  },
  {
   "cell_type": "code",
   "execution_count": null,
   "metadata": {},
   "outputs": [],
   "source": [
    "table1_cont = generate_table1(circ_eda, include_types=\"categorical\")\n",
    "table1_cont"
   ]
  },
  {
   "cell_type": "markdown",
   "metadata": {},
   "source": [
    "## Define Age Group"
   ]
  },
  {
   "cell_type": "code",
   "execution_count": null,
   "metadata": {},
   "outputs": [],
   "source": [
    "# create bins for age along with labels such that age as a continuous series\n",
    "# can be converted to something more manageable for visualization and analysis\n",
    "bin_ages = [18, 30, 40, 50, 60, 70, 80, 90, 100]\n",
    "label_ages = [\n",
    "    \"18-29\",\n",
    "    \"30-39\",\n",
    "    \"40-49\",\n",
    "    \"50-59\",\n",
    "    \"60-69\",\n",
    "    \"70-79\",\n",
    "    \"80-89\",\n",
    "    \"90-99\",\n",
    "]\n",
    "\n",
    "circ_eda[\"age_group\"] = pd.cut(\n",
    "    circ_eda[\"Age_years\"],\n",
    "    bins=bin_ages,\n",
    "    labels=label_ages,\n",
    ")"
   ]
  },
  {
   "cell_type": "markdown",
   "metadata": {},
   "source": [
    "## Clinical Characteristics"
   ]
  },
  {
   "cell_type": "markdown",
   "metadata": {},
   "source": [
    "### Prevalence of Comorbidities"
   ]
  },
  {
   "cell_type": "code",
   "execution_count": null,
   "metadata": {},
   "outputs": [],
   "source": [
    "comorbid_color = [\"#1f77b4\", \"#c8544c\"]\n",
    "comorbid_flag = {0: \"No Comorbidities\", 1: \"Comorbidities\"}\n",
    "comorb_val_counts = circ_eda[\"Comorbidity_Flag\"].value_counts()\n",
    "comorb_val_counts.index = comorb_val_counts.index.map(comorbid_flag)\n",
    "ax = comorb_val_counts.plot(\n",
    "    kind=\"bar\",\n",
    "    rot=0,\n",
    "    width=0.99,\n",
    "    color=comorbid_color,\n",
    ")\n",
    "\n",
    "for i, v in enumerate(comorb_val_counts):\n",
    "    ax.text(i, v - 20, str(v), ha=\"center\", color=\"yellow\")\n",
    "ax.set_title(\"Prevalence of Comorbidities\")\n",
    "ax.set_xlabel(\"Comorbidity Flag\")\n",
    "ax.set_ylabel(\"Comorbidity Count\")\n",
    "plt.savefig(\n",
    "    os.path.join(image_path_png, \"comorbidities_vs_no_comorbidities.png\"),\n",
    ")\n",
    "plt.savefig(\n",
    "    os.path.join(image_path_svg, \"comorbidities_vs_no_comorbidities.svg\"),\n",
    ")\n",
    "plt.show()"
   ]
  },
  {
   "cell_type": "markdown",
   "metadata": {},
   "source": [
    "### Comorbidities by Age Group"
   ]
  },
  {
   "cell_type": "code",
   "execution_count": null,
   "metadata": {},
   "outputs": [],
   "source": [
    "pd.crosstab(\n",
    "    circ_eda[\"Comorbidities\"],\n",
    "    circ_eda[\"age_group\"],\n",
    "    margins=True,\n",
    "    margins_name=\"Total\",\n",
    ")"
   ]
  },
  {
   "cell_type": "code",
   "execution_count": null,
   "metadata": {},
   "outputs": [],
   "source": [
    "circ_eda[\"age_group\"].unique()"
   ]
  },
  {
   "cell_type": "code",
   "execution_count": null,
   "metadata": {},
   "outputs": [],
   "source": [
    "filtered_df = circ_eda[circ_eda[\"Comorbidities\"] != \"0\"]\n",
    "age_group_order = filtered_df[\"age_group\"].dropna().unique().tolist()\n",
    "age_group_order = [\n",
    "    \"18-29\",\n",
    "    \"30-39\",\n",
    "    \"40-49\",\n",
    "    \"50-59\",\n",
    "    \"60-69\",\n",
    "    \"70-79\",\n",
    "    \"80-89\",\n",
    "    \"90-99\",\n",
    "]\n",
    "\n",
    "sorted_crosstab = pd.crosstab(\n",
    "    filtered_df[\"Comorbidities\"], filtered_df[\"age_group\"]\n",
    ").reindex(columns=age_group_order)\n",
    "\n",
    "\n",
    "plt.figure(figsize=(9, 6))\n",
    "\n",
    "# Create the heatmap using the sorted crosstab\n",
    "sns.heatmap(sorted_crosstab, annot=True, cmap=\"rocket_r\", fmt=\"d\")\n",
    "# plt.title(\"Comorbidites by Age Group\")\n",
    "plt.xlabel(\"Age Group\")\n",
    "\n",
    "# Save the image, assuming image_path_png and image_path_svg are already defined\n",
    "plt.savefig(\n",
    "    os.path.join(image_path_png, \"comorbidities_by_age_group.png\"),\n",
    "    bbox_inches=\"tight\",\n",
    ")\n",
    "plt.savefig(\n",
    "    os.path.join(image_path_svg, \"comorbidities_by_age_group.svg\"),\n",
    "    bbox_inches=\"tight\",\n",
    ")\n",
    "plt.show()"
   ]
  },
  {
   "cell_type": "markdown",
   "metadata": {},
   "source": [
    "### Comorbidities by Geographical Origin"
   ]
  },
  {
   "cell_type": "code",
   "execution_count": null,
   "metadata": {},
   "outputs": [],
   "source": [
    "plt.figure(figsize=(9, 6))\n",
    "\n",
    "# create a heatmap of the crosstab between patient comorbidities and geo. origin\n",
    "sns.heatmap(\n",
    "    pd.crosstab(circ_eda[\"Comorbidities\"], circ_eda[\"Geographical_Origin\"]),\n",
    "    annot=True,\n",
    "    cmap=\"rocket_r\",\n",
    "    fmt=\"d\",\n",
    ")\n",
    "\n",
    "\n",
    "plt.title(\"Comorbidites by Geographical Origin\")\n",
    "plt.xlabel(\"Geographical Origin\")\n",
    "plt.savefig(\n",
    "    os.path.join(image_path_png, \"comorbidities_by_geog_origin.png\"),\n",
    "    bbox_inches=\"tight\",\n",
    ")\n",
    "\n",
    "plt.savefig(\n",
    "    os.path.join(image_path_svg, \"comorbidities_by_geog_origin.svg\"),\n",
    "    bbox_inches=\"tight\",\n",
    ")\n",
    "\n",
    "plt.show()"
   ]
  },
  {
   "cell_type": "markdown",
   "metadata": {},
   "source": [
    "## Overall Distributions"
   ]
  },
  {
   "cell_type": "code",
   "execution_count": null,
   "metadata": {},
   "outputs": [],
   "source": [
    "dist_list_1 = [\n",
    "    \"Age_years\",\n",
    "    \"BMI\",\n",
    "    \"Comorbidities\",\n",
    "    \"Preop_drugs_antibiotic\",\n",
    "    \"Preop_Heart_Rate_bpm\",\n",
    "    \"Preop_Pulse_Ox_Percent\",\n",
    "    \"Surgical_Technique\",\n",
    "    \"Intraoperative_Blood_Loss_ml\",\n",
    "]\n",
    "\n",
    "dist_list_2 = [\n",
    "    \"Intraop_Mean_Heart_Rate_bpm\",\n",
    "    \"Intraop_Mean_Pulse_Ox_Percent\",\n",
    "    \"Surgical_Time_min\",\n",
    "    \"Functional_Outcomes_Pain\",\n",
    "    \"Functional_Outcomes_Bleeding\",\n",
    "    \"Functional_Outcomes_Edema\",\n",
    "    \"Functional_Outcomes_Infection\",\n",
    "    \"Functional_Outcomes_Fast_Recovery\",\n",
    "]\n",
    "\n",
    "dist_list_3 = [\n",
    "    \"Functional_Outcomes_Cosmetic_Satisfaction\",\n",
    "    \"Cost_of_Procedure_euros\",\n",
    "    \"Preop_MAP\",\n",
    "    \"Intraop_MAP\",\n",
    "    \"Anesthesia_Type_lidocaine\",\n",
    "    \"SBP\",\n",
    "    \"DBP\",\n",
    "    \"Comorbidity_Flag\",\n",
    "]"
   ]
  },
  {
   "cell_type": "code",
   "execution_count": null,
   "metadata": {},
   "outputs": [],
   "source": [
    "len(dist_list_1) + len(dist_list_2) + len(dist_list_3)"
   ]
  },
  {
   "cell_type": "code",
   "execution_count": null,
   "metadata": {},
   "outputs": [],
   "source": [
    "dist_list = circ_eda.select_dtypes(np.number).columns.to_list()\n",
    "\n",
    "kde_distributions(\n",
    "    df=circ_eda,\n",
    "    fill=True,\n",
    "    n_rows=2,\n",
    "    n_cols=4,\n",
    "    h_pad=5,\n",
    "    fill_alpha=0.60,\n",
    "    text_wrap=40,\n",
    "    # grid_figsize=(50, 25),  # Size of the overall grid figure\n",
    "    vars_of_interest=dist_list_1,\n",
    "    image_path_png=image_path_png,\n",
    "    image_path_svg=image_path_svg,\n",
    "    plot_type=\"both\",\n",
    "    image_filename=\"numeric_distributions_1\",\n",
    "    bbox_inches=\"tight\",\n",
    "    # y_axis_label=\" \",\n",
    "    # plot_title=None,\n",
    "    bins=10,\n",
    "    tick_fontsize=14,\n",
    "    # custom_xlabels={\"Age_years\": \"Age\"},\n",
    "    # custom_titles={\"Age_years\": None},\n",
    "    label_fontsize=16,\n",
    ")"
   ]
  },
  {
   "cell_type": "code",
   "execution_count": null,
   "metadata": {},
   "outputs": [],
   "source": [
    "dist_list = circ_eda.select_dtypes(np.number).columns.to_list()\n",
    "\n",
    "kde_distributions(\n",
    "    df=circ_eda,\n",
    "    fill=True,\n",
    "    n_rows=2,\n",
    "    n_cols=4,\n",
    "    h_pad=5,\n",
    "    fill_alpha=0.60,\n",
    "    text_wrap=30,\n",
    "    # grid_figsize=(50, 25),  # Size of the overall grid figure\n",
    "    vars_of_interest=dist_list_2,\n",
    "    image_path_png=image_path_png,\n",
    "    image_path_svg=image_path_svg,\n",
    "    plot_type=\"both\",\n",
    "    image_filename=\"numeric_distributions_2\",\n",
    "    bbox_inches=\"tight\",\n",
    "    y_axis_label=\"Density\",\n",
    "    bins=10,\n",
    "    tick_fontsize=14,\n",
    "    label_fontsize=16,\n",
    ")"
   ]
  },
  {
   "cell_type": "code",
   "execution_count": null,
   "metadata": {},
   "outputs": [],
   "source": [
    "dist_list = circ_eda.select_dtypes(np.number).columns.to_list()\n",
    "\n",
    "kde_distributions(\n",
    "    df=circ_eda,\n",
    "    fill=True,\n",
    "    n_rows=2,\n",
    "    n_cols=4,\n",
    "    h_pad=5,\n",
    "    fill_alpha=0.60,\n",
    "    text_wrap=40,\n",
    "    # grid_figsize=(50, 25),  # Size of the overall grid figure\n",
    "    vars_of_interest=dist_list_3,\n",
    "    image_path_png=image_path_png,\n",
    "    image_path_svg=image_path_svg,\n",
    "    plot_type=\"both\",\n",
    "    image_filename=\"numeric_distributions_3\",\n",
    "    bbox_inches=\"tight\",\n",
    "    y_axis_label=\"Density\",\n",
    "    bins=10,\n",
    "    tick_fontsize=14,\n",
    "    label_fontsize=16,\n",
    ")"
   ]
  },
  {
   "cell_type": "code",
   "execution_count": null,
   "metadata": {},
   "outputs": [],
   "source": [
    "kde_distributions(\n",
    "    df=circ_eda,\n",
    "    figsize=(10, 6),\n",
    "    text_wrap=50,\n",
    "    hist_color=\"brown\",\n",
    "    bbox_inches=\"tight\",\n",
    "    vars_of_interest=[\"Surgical_Time_min\"],\n",
    "    y_axis_label=\"Density\",\n",
    "    bins=10,\n",
    "    fill_alpha=0.40,\n",
    "    plot_type=\"both\",\n",
    "    stat=\"Density\",\n",
    "    label_fontsize=16,  # Font size for axis labels\n",
    "    tick_fontsize=14,  # Font size for tick labels\n",
    "    plot_mean=True,\n",
    "    plot_median=True,\n",
    "    mean_color=\"blue\",\n",
    "    image_filename=\"surgical_time_distribution\",\n",
    "    image_path_svg=image_path_svg,\n",
    "    custom_xlabels=None,  # New parameter to customize x-axis labels\n",
    "    custom_titles={\n",
    "        \"Surgical_Time_min\": \"Surgical Time in Minutes\"\n",
    "    },  # New parameter to customize plot titles\n",
    "    image_path_png=image_path_png,\n",
    "    std_dev_levels=[\n",
    "        1,\n",
    "        2,\n",
    "        3,\n",
    "    ],\n",
    "    std_color=[\n",
    "        \"purple\",\n",
    "        \"green\",\n",
    "        \"silver\",\n",
    "    ],\n",
    "    # title=\"Age Distribution\",\n",
    ")"
   ]
  },
  {
   "cell_type": "markdown",
   "metadata": {},
   "source": [
    "## Correlation Matrix"
   ]
  },
  {
   "cell_type": "code",
   "execution_count": null,
   "metadata": {},
   "outputs": [],
   "source": [
    "# Function to create a mock dataset\n",
    "def create_mock_dataset(rows=100, seed=42):\n",
    "    np.random.seed(seed)\n",
    "    data = {\n",
    "        \"Age_years\": np.random.randint(18, 65, size=rows),\n",
    "        \"Weight_kg\": np.random.uniform(50, 120, size=rows),\n",
    "        \"BMI\": np.random.uniform(18, 35, size=rows),\n",
    "        \"Comorbidities\": np.random.choice([0, 1], size=rows),\n",
    "        \"Preop_Heart_Rate_bpm\": np.random.randint(60, 100, size=rows),\n",
    "        \"Intraop_Mean_Heart_Rate_bpm\": np.random.randint(70, 110, size=rows),\n",
    "        \"Intraop_Mean_Pulse_Ox_Percent\": np.random.uniform(90, 100, size=rows),\n",
    "        \"Surgical_Time_min\": np.random.randint(30, 300, size=rows),\n",
    "        \"Cost_of_Procedure_euros\": np.random.uniform(5000, 20000, size=rows),\n",
    "        \"SBP\": np.random.randint(100, 140, size=rows),\n",
    "        \"DBP\": np.random.randint(60, 90, size=rows),\n",
    "    }\n",
    "    return pd.DataFrame(data)\n",
    "\n",
    "\n",
    "# Generate the dataset\n",
    "mock_dataset = create_mock_dataset(rows=100)"
   ]
  },
  {
   "cell_type": "code",
   "execution_count": null,
   "metadata": {},
   "outputs": [],
   "source": [
    "mock_dataset"
   ]
  },
  {
   "cell_type": "code",
   "execution_count": null,
   "metadata": {},
   "outputs": [],
   "source": [
    "from eda_toolkit import flex_corr_matrix\n",
    "\n",
    "feature_list = [\n",
    "    \"Age_years\",\n",
    "    \"BMI\",\n",
    "    \"Surgical_Technique\",\n",
    "    \"Intraoperative_Blood_Loss_ml\",\n",
    "    \"Intraop_Mean_Heart_Rate_bpm\",\n",
    "    \"Intraop_Mean_Pulse_Ox_Percent\",\n",
    "    \"Surgical_Time_min\",\n",
    "    \"Diabetes\",\n",
    "    \"BMI_Category_Obese\",\n",
    "    \"BMI_Category_Overweight\",\n",
    "    \"BMI_Category_Underweight\",\n",
    "    \"Intraop_SBP\",\n",
    "    \"Intraop_DBP\",\n",
    "]\n",
    "flex_corr_matrix(\n",
    "    df=circ_eda,\n",
    "    # cols=mock_dataset.columns.to_list(),\n",
    "    cols=feature_list,\n",
    "    annot=True,\n",
    "    cmap=\"viridis\",\n",
    "    figsize=(20, 20),\n",
    "    # title=\"US Census Correlation Matrix\",\n",
    "    xlabel_alignment=\"right\",\n",
    "    image_path_png=image_path_png,\n",
    "    image_path_svg=image_path_svg,\n",
    "    save_plots=True,\n",
    "    label_fontsize=20,\n",
    "    tick_fontsize=20,\n",
    "    xlabel_rot=30,\n",
    "    ylabel_rot=0,\n",
    "    text_wrap=30,\n",
    "    vmin=-1,\n",
    "    vmax=1,\n",
    "    cbar_label=\"Correlation Index\",\n",
    "    # cbar_padding=0.8,  # Adjust spacing as needed\n",
    "    # cbar_width_ratio=0.05,  # Adjust width as needed\n",
    "    triangular=True,\n",
    "    show_colorbar=True,\n",
    ")"
   ]
  },
  {
   "cell_type": "markdown",
   "metadata": {},
   "source": [
    "## Scatter Plots"
   ]
  },
  {
   "cell_type": "markdown",
   "metadata": {},
   "source": [
    "### Preoperative vs. Intraoperative Characteristics (Scatterplots)"
   ]
  },
  {
   "cell_type": "markdown",
   "metadata": {},
   "source": [
    "Examining the clinical relevance of the proposed correlations involves understanding the physiological interactions and the possible implications of these measurements on patient outcomes. Here's a brief overview of the clinical sensibility of each correlation:\n",
    "\n",
    "1. Preoperative Heart Rate (BPM) vs. Preoperative Pulse Oximetry (SpO2):  \n",
    "\n",
    "    Clinical Relevance: Moderately relevant. Heart rate and oxygen saturation can both be indicators of a patient's cardiorespiratory status. While there's no direct causal relationship, abnormalities in one might reflect or affect changes in the other, especially in the context of cardiorespiratory diseases.\n",
    "\n",
    "2. Preoperative Heart Rate (BPM) vs. Intraoperative Blood Loss (ml):\n",
    "\n",
    "    Clinical Relevance: Indirect relevance. Preoperative heart rate could reflect the patient's stress or anxiety level, potentially influencing blood pressure and vascular tone. However, the correlation with intraoperative blood loss is likely to be influenced by many other factors, making this relationship more complex and indirect.\n",
    "\n",
    "3. Preoperative Heart Rate (BPM) vs. Preoperative Mean Arterial Pressure (MAP):\n",
    "\n",
    "    Clinical Relevance: Highly relevant. There's a physiological interaction where the heart rate can influence and be influenced by arterial pressure due to cardiac output and vascular resistance factors. This relationship is fundamental in understanding the patient's hemodynamic status.\n",
    "\n",
    "4. Preoperative Heart Rate (BPM) vs. Intraoperative Mean Arterial Pressure (MAP):\n",
    "\n",
    "    Clinical Relevance: Moderately relevant. Similar to the preoperative MAP, but considering the stress and potential complications during surgery, the correlation might offer insights into how preoperative conditions could affect or predict intraoperative hemodynamic stability.\n",
    "\n",
    "5. Preoperative Pulse Ox vs. Intraoperative Blood Loss (ml):\n",
    "\n",
    "    Clinical Relevance: Indirect relevance. While both metrics are important, the direct correlation between preoperative oxygen saturation and intraoperative blood loss is not straightforward. Other factors, such as the surgical site and technique, significantly influence blood loss.\n",
    "\n",
    "6. Preoperative Pulse Ox vs. Preoperative MAP:\n",
    "\n",
    "    Clinical Relevance: Indirect relevance. Both are vital signs but relate to different physiological aspects (cardiorespiratory efficiency vs. circulatory pressure). The relationship is more about how general health can impact these measurements rather than a direct correlation.\n",
    "\n",
    "7. Preoperative Pulse Ox vs. Intraoperative MAP:\n",
    "\n",
    "    Clinical Relevance: Indirect relevance. This relationship might be more about the underlying health status of the patient and how it could affect or be affected by intraoperative hemodynamic management rather than a direct correlation.\n",
    "\n",
    "8. Intraoperative Blood Loss (ml) vs. Preoperative MAP:\n",
    "\n",
    "    Clinical Relevance: Indirect relevance. Preoperative MAP might influence the body's response to blood loss (through compensatory mechanisms), but the amount of blood loss is more directly related to the surgical procedure and technique.\n",
    "\n",
    "9. Intraoperative Blood Loss (ml) vs. Intraoperative MAP:\n",
    "\n",
    "    Clinical Relevance: Highly relevant. Significant blood loss can lead to a decrease in MAP due to reduced circulating volume, making this correlation critical for monitoring and managing intraoperative hemodynamics.\n",
    "\n",
    "10. Preoperative MAP vs. Intraoperative MAP:\n",
    "\n",
    "    Clinical Relevance: Highly relevant. Understanding the changes from preoperative to intraoperative MAP can provide insights into the patient's hemodynamic response to surgery and anesthesia, helping to guide management to maintain stability.\n",
    "\n",
    "For each of these correlations, it's important to consider the broader clinical context, including the type of surgery, patient health status, and other concurrent interventions. The significance of these correlations can vary based on specific patient populations and conditions."
   ]
  },
  {
   "cell_type": "code",
   "execution_count": null,
   "metadata": {},
   "outputs": [],
   "source": [
    "preop_intraop_values = [\n",
    "    \"Preop_Heart_Rate_bpm\",\n",
    "    \"Preop_Pulse_Ox_Percent\",\n",
    "    \"Intraoperative_Blood_Loss_ml\",\n",
    "    \"Preop_MAP\",\n",
    "    \"Intraop_MAP\",\n",
    "]\n",
    "\n",
    "custom_titles = {\n",
    "    \"Preop_Heart_Rate_bpm\": \"Preoperative Heart Rate (BPM)\",\n",
    "    \"Preop_Pulse_Ox_Percent\": \"Preoperative Pulse Oximetry (SpO2)\",\n",
    "    \"Intraoperative_Blood_Loss_ml\": \"Intraoperative Blood Loss (ML)\",\n",
    "    \"Preop_MAP\": \"Preoperative Mean Arterial Pressure\",\n",
    "    \"Intraop_MAP\": \"Intraoperative Mean Arterial Pressure\",\n",
    "}\n",
    "\n",
    "# Define combinations to omit\n",
    "combinations_to_omit = [\n",
    "    (\n",
    "        \"Preop_Heart_Rate_bpm\",\n",
    "        \"Preop_Pulse_Ox_Percent\",\n",
    "    ),  # Indirect physiological relationship\n",
    "    (\n",
    "        \"Preop_Heart_Rate_bpm\",\n",
    "        \"Intraoperative_Blood_Loss_ml\",\n",
    "    ),  # Indirect and complex relationship\n",
    "    (\n",
    "        \"Preop_Pulse_Ox_Percent\",\n",
    "        \"Intraoperative_Blood_Loss_ml\",\n",
    "    ),  # No direct physiological relationship\n",
    "    (\n",
    "        \"Preop_Pulse_Ox_Percent\",\n",
    "        \"Intraop_MAP\",\n",
    "    ),  # indirect relevance and differing physiological systems\n",
    "    (\n",
    "        \"Intraoperative_Blood_Loss_ml\",\n",
    "        \"Preop_MAP\",\n",
    "    ),  # complex and indirect influences on outcomes.\n",
    "    # Any addtl' combos based on further clinical insights can be added here\n",
    "]\n",
    "\n",
    "scatter_fit_plot(\n",
    "    df=circ_eda,\n",
    "    all_vars=preop_intraop_values,\n",
    "    label_names=custom_titles,\n",
    "    show_legend=True,\n",
    "    show_plot=\"grid\",\n",
    "    label_fontsize=14,\n",
    "    exclude_combinations=combinations_to_omit,\n",
    "    tick_fontsize=12,\n",
    "    add_best_fit_line=True,\n",
    "    scatter_color=\"#808080\",\n",
    "    show_correlation=True,\n",
    "    text_wrap=40,\n",
    "    image_path_png=image_path_png,\n",
    "    image_path_svg=image_path_svg,\n",
    "    save_plots=\"individual\",\n",
    ")"
   ]
  },
  {
   "cell_type": "markdown",
   "metadata": {},
   "source": [
    "### Mean Arterial Pressure vs. BMI"
   ]
  },
  {
   "cell_type": "code",
   "execution_count": null,
   "metadata": {},
   "outputs": [],
   "source": [
    "scatter_fit_plot(\n",
    "    df=circ_eda,\n",
    "    x_vars=[\"Preop_MAP\", \"Intraop_MAP\"],\n",
    "    y_vars=[\"BMI\"],\n",
    "    label_names=custom_titles,\n",
    "    show_legend=True,\n",
    "    show_plot=\"grid\",\n",
    "    label_fontsize=14,\n",
    "    tick_fontsize=12,\n",
    "    add_best_fit_line=True,\n",
    "    scatter_color=\"#808080\",\n",
    "    show_correlation=True,\n",
    "    text_wrap=40,\n",
    "    image_path_png=image_path_png,\n",
    "    image_path_svg=image_path_svg,\n",
    "    save_plots=\"individual\",\n",
    ")"
   ]
  },
  {
   "cell_type": "markdown",
   "metadata": {},
   "source": [
    "### BMI by Geographical Origin"
   ]
  },
  {
   "cell_type": "code",
   "execution_count": null,
   "metadata": {},
   "outputs": [],
   "source": [
    "bmi_by_geog = (\n",
    "    circ_eda.groupby(\"Geographical_Origin\")[\"BMI\"]\n",
    "    .agg([\"mean\", \"std\", \"min\", \"max\"])\n",
    "    .rename(\n",
    "        columns={\n",
    "            \"mean\": \"Mean\",\n",
    "            \"std\": \"Standard Deviation\",\n",
    "            \"min\": \"Min\",\n",
    "            \"max\": \"Max\",\n",
    "        },\n",
    "    )\n",
    ").replace(np.nan, \"-\")\n",
    "bmi_by_geog"
   ]
  },
  {
   "cell_type": "code",
   "execution_count": null,
   "metadata": {},
   "outputs": [],
   "source": [
    "circ_eda.groupby(\"Geographical_Origin\")[\"BMI\"].agg(\"mean\").plot(\n",
    "    kind=\"barh\",\n",
    "    width=0.9,\n",
    "    rot=0,\n",
    ")\n",
    "\n",
    "plt.title(\"BMI by Country of Origin\")\n",
    "plt.xlabel(\"Body Mass Index\")\n",
    "plt.ylabel(\"Country of Origin\")\n",
    "plt.savefig(\n",
    "    os.path.join(image_path_png, \"bmi_by_geog_origin.png\"),\n",
    "    bbox_inches=\"tight\",\n",
    ")\n",
    "plt.savefig(\n",
    "    os.path.join(image_path_svg, \"bmi_by_geog_origin.svg\"),\n",
    "    bbox_inches=\"tight\",\n",
    ")\n",
    "plt.show()"
   ]
  },
  {
   "cell_type": "markdown",
   "metadata": {},
   "source": [
    "## Age-Related Distributions"
   ]
  },
  {
   "cell_type": "code",
   "execution_count": null,
   "metadata": {},
   "outputs": [],
   "source": [
    "kde_distributions(\n",
    "    df=circ_eda,\n",
    "    figsize=(10, 6),\n",
    "    text_wrap=50,\n",
    "    hist_color=\"brown\",\n",
    "    bbox_inches=\"tight\",\n",
    "    vars_of_interest=[\"Age_years\"],\n",
    "    y_axis_label=\"Density\",\n",
    "    bins=10,\n",
    "    fill_alpha=0.40,\n",
    "    plot_type=\"both\",\n",
    "    stat=\"Density\",\n",
    "    label_fontsize=16,  # Font size for axis labels\n",
    "    tick_fontsize=14,  # Font size for tick labels\n",
    "    plot_mean=True,\n",
    "    plot_median=True,\n",
    "    mean_color=\"blue\",\n",
    "    image_filename=\"age_distribution\",\n",
    "    image_path_svg=image_path_svg,\n",
    "    custom_xlabels=None,  # New parameter to customize x-axis labels\n",
    "    custom_titles={\"Age_years\": \" \"},  # New parameter to customize plot titles\n",
    "    image_path_png=image_path_png,\n",
    "    std_dev_levels=[\n",
    "        1,\n",
    "        2,\n",
    "        3,\n",
    "    ],\n",
    "    std_color=[\n",
    "        \"purple\",\n",
    "        \"green\",\n",
    "        \"silver\",\n",
    "    ],\n",
    ")"
   ]
  },
  {
   "cell_type": "markdown",
   "metadata": {},
   "source": [
    "### Slide-Specific Implementation"
   ]
  },
  {
   "cell_type": "code",
   "execution_count": null,
   "metadata": {},
   "outputs": [],
   "source": [
    "# Define the bin edges to create 10 evenly spaced bins\n",
    "bins = np.arange(0, 101, 10)\n",
    "\n",
    "# Calculate descriptive statistics\n",
    "age_description = circ_eda[\"Age_years\"].describe()\n",
    "\n",
    "# Create the histogram\n",
    "fig, ax = plt.subplots()\n",
    "circ_eda[\"Age_years\"].hist(\n",
    "    bins=bins, grid=False, edgecolor=\"black\", ax=ax, density=True\n",
    ")\n",
    "\n",
    "# Calculate the KDE\n",
    "kde = gaussian_kde(circ_eda[\"Age_years\"].dropna())  # Ensure no NaN values interfere\n",
    "age_range = np.linspace(0, 100, 500)  # Generate points between 0 and 100\n",
    "kde_values = kde(age_range)  # Evaluate the KDE here\n",
    "\n",
    "# Overlay the KDE plot\n",
    "ax.plot(age_range, kde_values, color=\"red\", alpha=0.5)  # Alpha for transparency\n",
    "\n",
    "# Construct label with a multi-line string for better readability\n",
    "label_text = (\n",
    "    f'Count: {age_description[\"count\"]:.0f}\\n'\n",
    "    f'Mean: {age_description[\"mean\"]:.2f}\\n'\n",
    "    f'Std: {age_description[\"std\"]:.2f}\\n'\n",
    "    f'Min: {age_description[\"min\"]:.2f}\\n'\n",
    "    f'25%: {age_description[\"25%\"]:.2f}\\n'\n",
    "    f'50%: {age_description[\"50%\"]:.2f}\\n'\n",
    "    f'75%: {age_description[\"75%\"]:.2f}\\n'\n",
    "    f'Max: {age_description[\"max\"]:.2f}'\n",
    ")\n",
    "\n",
    "# Create an invisible plot for the purpose of adding the legend\n",
    "ax.plot([], [], \" \", label=label_text)\n",
    "\n",
    "# Add title and labels\n",
    "ax.set_title(\"Age Distribution\")\n",
    "ax.set_xlabel(\"Age\")\n",
    "ax.set_ylabel(\"Density\")\n",
    "\n",
    "# Display the legend\n",
    "ax.legend(title=\"Summary Statistics\")\n",
    "\n",
    "plt.savefig(os.path.join(image_path_png, \"age_hist.png\"))\n",
    "plt.savefig(os.path.join(image_path_svg, \"age_hist.svg\"))\n",
    "plt.show()"
   ]
  },
  {
   "cell_type": "markdown",
   "metadata": {},
   "source": [
    "## Comprehensive Age-Related Boxplots for Continuous Values"
   ]
  },
  {
   "cell_type": "code",
   "execution_count": null,
   "metadata": {},
   "outputs": [],
   "source": [
    "boxplot_metrics_list = [\n",
    "    \"BMI\",\n",
    "    \"Preop_MAP\",\n",
    "    \"Intraop_MAP\",\n",
    "    \"Preop_Pulse_Ox_Percent\",\n",
    "    \"Intraop_Mean_Pulse_Ox_Percent\",\n",
    "    \"Preop_Heart_Rate_bpm\",\n",
    "    \"Intraop_Mean_Heart_Rate_bpm\",\n",
    "    \"Surgical_Time_min\",\n",
    "]\n",
    "metrics_boxplot_comp = [\"age_group\"]\n",
    "metrics_comp = [\"age_group\"]\n",
    "\n",
    "box_violin_plot(\n",
    "    df=circ_eda,\n",
    "    metrics_list=boxplot_metrics_list,\n",
    "    metrics_comp=metrics_comp,\n",
    "    image_path_png=image_path_png,\n",
    "    image_path_svg=image_path_svg,\n",
    "    save_plots=True,\n",
    "    show_plot=\"both\",\n",
    "    show_legend=False,\n",
    "    plot_type=\"boxplot\",\n",
    "    xlabel_rot=90,\n",
    ")"
   ]
  },
  {
   "cell_type": "markdown",
   "metadata": {},
   "source": [
    "### Mean Arterial Pressure Averages by Age Group"
   ]
  },
  {
   "cell_type": "code",
   "execution_count": null,
   "metadata": {},
   "outputs": [],
   "source": [
    "map_values = circ_eda[[\"Preop_MAP\", \"Intraop_MAP\"]]\n",
    "\n",
    "# Convert dictionary items to a list and get the last two items\n",
    "custom_maps = dict(list(custom_titles.items())[-2:])\n",
    "\n",
    "for col in map_values.columns:\n",
    "    # Use the custom title from the dict. if available, else use the column name\n",
    "    custom_map = custom_maps.get(col, col)\n",
    "\n",
    "    # Group by age_group and calculate statistics\n",
    "    map_age = (\n",
    "        circ_eda.groupby(\"age_group\", observed=True)[col]\n",
    "        .agg([\"mean\", \"std\", \"min\", \"max\"])\n",
    "        .rename(\n",
    "            columns={\n",
    "                \"mean\": \"Mean\",\n",
    "                \"std\": \"Standard Deviation\",\n",
    "                \"min\": \"Min\",\n",
    "                \"max\": \"Max\",\n",
    "            }\n",
    "        )\n",
    "        .replace(np.nan, \"-\")  # Replace NaN values with \"-\",\n",
    "    )\n",
    "\n",
    "    # Plotting section\n",
    "    map_age[\"Mean\"].plot(\n",
    "        kind=\"bar\",\n",
    "        width=0.92,\n",
    "        rot=0,\n",
    "    )\n",
    "    plt.title(f\"{custom_map} Averages by Age Group\")\n",
    "    plt.xlabel(\"Age Group\")\n",
    "    plt.ylabel(f\"{custom_map}\")\n",
    "    file_name = custom_map.replace(\" \", \"_\").replace(\"/\", \"_or_\")\n",
    "    plt.savefig(os.path.join(image_path_png, f\"{file_name}_by_age_group.png\"))\n",
    "    plt.savefig(os.path.join(image_path_svg, f\"{file_name}_by_age_group.svg\"))\n",
    "    plt.show()\n",
    "\n",
    "    # Display the table\n",
    "    print(f\"Table for {custom_map} by Age Group:\")\n",
    "    display(map_age)  # Use print(map_age) if display is not available"
   ]
  },
  {
   "cell_type": "markdown",
   "metadata": {},
   "source": [
    "### BMI Averages by Age Group"
   ]
  },
  {
   "cell_type": "code",
   "execution_count": null,
   "metadata": {},
   "outputs": [],
   "source": [
    "# group age by BMI and plot average BMI per age\n",
    "circ_eda.groupby(\"age_group\", observed=True)[\"BMI\"].agg(\"mean\").plot(\n",
    "    kind=\"bar\",\n",
    "    width=0.92,\n",
    "    rot=0,\n",
    ")\n",
    "plt.title(\"BMI Averages by Age Group\")\n",
    "plt.xlabel(\"Age Group\")\n",
    "plt.ylabel(\"Body Mass Index\")\n",
    "\n",
    "# Adjust figure size for saving only\n",
    "# plt.gcf().set_size_inches(12, 6)  # Example: Adjust to desired size for saving\n",
    "plt.savefig(os.path.join(image_path_png, \"bmi_by_age_group.png\"))\n",
    "plt.savefig(os.path.join(image_path_svg, \"bmi_by_age_group.svg\"))\n",
    "plt.show()"
   ]
  },
  {
   "cell_type": "markdown",
   "metadata": {},
   "source": [
    "## Functional Outcomes by Age"
   ]
  },
  {
   "cell_type": "code",
   "execution_count": null,
   "metadata": {},
   "outputs": [],
   "source": [
    "neg_outcomes = [\n",
    "    \"Functional_Outcomes_Pain\",\n",
    "    \"Functional_Outcomes_Bleeding\",\n",
    "    \"Functional_Outcomes_Infection\",\n",
    "]\n",
    "\n",
    "# Define the legend_labels to use in the loop\n",
    "neg_legend_labels = [\n",
    "    [\"No Pain\", \"Pain\"],\n",
    "    [\"No Bleeding\", \"Bleeding\"],\n",
    "    [\"No Infection\", \"Infection\"],\n",
    "]\n",
    "\n",
    "# Define titles for the plots\n",
    "neg_title = [\n",
    "    \"Pain\",\n",
    "    \"Bleeding\",\n",
    "    \"Infection\",\n",
    "]"
   ]
  },
  {
   "cell_type": "code",
   "execution_count": null,
   "metadata": {},
   "outputs": [],
   "source": [
    "stacked_crosstabs = stacked_crosstab_plot(\n",
    "    df=circ_eda,\n",
    "    col=\"age_group\",\n",
    "    func_col=neg_outcomes,\n",
    "    legend_labels_list=neg_legend_labels,\n",
    "    title=neg_title,\n",
    "    kind=\"bar\",\n",
    "    width=0.8,\n",
    "    rot=0,  # axis rotation angle\n",
    "    custom_order=None,\n",
    "    text_wrap=80,\n",
    "    color=[\"#1f77b4\", \"#c8544c\"],\n",
    "    output=\"both\",\n",
    "    image_path_png=image_path_png,\n",
    "    image_path_svg=image_path_svg,\n",
    "    return_dict=True,\n",
    "    save_formats=[\"png\", \"svg\"],\n",
    "    x=14,\n",
    "    y=10,\n",
    "    p=12,\n",
    "    file_prefix=\"Stacked_Bar\",\n",
    "    logscale=False,\n",
    "    plot_type=\"both\",\n",
    "    show_legend=True,\n",
    "    label_fontsize=12,\n",
    "    tick_fontsize=12,\n",
    ")"
   ]
  },
  {
   "cell_type": "code",
   "execution_count": null,
   "metadata": {},
   "outputs": [],
   "source": [
    "## Save the crosstabs to csv on data_path\n",
    "for key, value in stacked_crosstabs.items():\n",
    "    # Save each DataFrame as a CSV file\n",
    "    value.to_csv(os.path.join(data_path, f\"{key}.csv\"), index=True)"
   ]
  },
  {
   "cell_type": "code",
   "execution_count": null,
   "metadata": {},
   "outputs": [],
   "source": [
    "for key, value in stacked_crosstabs.items():\n",
    "    key = key.lower()\n",
    "    print(key)\n",
    "print()\n",
    "\n",
    "for key, value in stacked_crosstabs.items():\n",
    "    # Create DataFrame variables dynamically\n",
    "    key = key.lower()\n",
    "    globals()[key] = value\n",
    "    # print(f\"{globals()[key]}\\n\")"
   ]
  },
  {
   "cell_type": "code",
   "execution_count": null,
   "metadata": {},
   "outputs": [],
   "source": [
    "functional_outcomes_pain"
   ]
  },
  {
   "cell_type": "code",
   "execution_count": null,
   "metadata": {},
   "outputs": [],
   "source": [
    "functional_outcomes_bleeding"
   ]
  },
  {
   "cell_type": "code",
   "execution_count": null,
   "metadata": {},
   "outputs": [],
   "source": [
    "functional_outcomes_infection"
   ]
  },
  {
   "cell_type": "code",
   "execution_count": null,
   "metadata": {},
   "outputs": [],
   "source": [
    "circ_eda[\"Functional_Outcomes_Cosmetic_Satisfaction\"].value_counts()"
   ]
  },
  {
   "cell_type": "code",
   "execution_count": null,
   "metadata": {},
   "outputs": [],
   "source": [
    "pos_outcomes = [\n",
    "    \"Functional_Outcomes_Fast_Recovery\",\n",
    "    \"Functional_Outcomes_Cosmetic_Satisfaction\",\n",
    "    \"Comorbidity_Flag\",\n",
    "]\n",
    "\n",
    "\n",
    "pos_legend_labels = [\n",
    "    [\"Not Fast Recovery\", \"Fast Recovery\"],\n",
    "    [\"Not Satisfied\", \"Satisfied\"],\n",
    "    [\"Comorbidities\", \"No Comorbidities\"],\n",
    "]\n",
    "\n",
    "pos_title = [\n",
    "    \"Recovery\",\n",
    "    \"Cosmetic Satisfaction\",\n",
    "    \"Comorbidities\",\n",
    "]"
   ]
  },
  {
   "cell_type": "code",
   "execution_count": null,
   "metadata": {},
   "outputs": [],
   "source": [
    "stacked_crosstabs = stacked_crosstab_plot(\n",
    "    df=circ_eda,\n",
    "    col=\"age_group\",\n",
    "    func_col=pos_outcomes,\n",
    "    legend_labels_list=pos_legend_labels,\n",
    "    title=pos_title,\n",
    "    kind=\"bar\",\n",
    "    width=0.8,\n",
    "    rot=0,  # axis rotation angle\n",
    "    custom_order=None,\n",
    "    text_wrap=80,\n",
    "    color=[\"#c8544c\", \"#1f77b4\"],\n",
    "    output=\"both\",\n",
    "    image_path_png=image_path_png,\n",
    "    image_path_svg=image_path_svg,\n",
    "    return_dict=True,\n",
    "    x=14,\n",
    "    y=10,\n",
    "    p=12,\n",
    "    save_formats=[\"png\", \"svg\"],\n",
    "    file_prefix=\"Stacked_Bar\",\n",
    "    logscale=False,\n",
    "    plot_type=\"both\",\n",
    "    show_legend=True,\n",
    "    label_fontsize=12,\n",
    "    tick_fontsize=12,\n",
    ")"
   ]
  },
  {
   "cell_type": "code",
   "execution_count": null,
   "metadata": {},
   "outputs": [],
   "source": [
    "surgical_outcomes = [\"Surgical_Technique\"]\n",
    "surgical_legend_labels = [[\"Laser\", \"Traditional\"]]\n",
    "surgical_title = [\"Surgical Technique\"]"
   ]
  },
  {
   "cell_type": "code",
   "execution_count": null,
   "metadata": {},
   "outputs": [],
   "source": [
    "stacked_crosstabs = stacked_crosstab_plot(\n",
    "    df=circ_eda,\n",
    "    col=\"age_group\",\n",
    "    func_col=surgical_outcomes,\n",
    "    legend_labels_list=surgical_legend_labels,\n",
    "    title=surgical_title,\n",
    "    kind=\"bar\",\n",
    "    width=0.8,\n",
    "    rot=0,  # axis rotation angle\n",
    "    custom_order=None,\n",
    "    text_wrap=80,\n",
    "    color=[\"#1f77b4\", \"#203764\"],\n",
    "    output=\"both\",\n",
    "    image_path_png=image_path_png,\n",
    "    image_path_svg=image_path_svg,\n",
    "    return_dict=True,\n",
    "    x=14,\n",
    "    y=10,\n",
    "    p=12,\n",
    "    save_formats=[\"png\", \"svg\"],\n",
    "    file_prefix=\"Stacked_Bar\",\n",
    "    logscale=False,\n",
    "    plot_type=\"both\",\n",
    "    show_legend=True,\n",
    "    label_fontsize=12,\n",
    "    tick_fontsize=12,\n",
    ")"
   ]
  },
  {
   "cell_type": "markdown",
   "metadata": {},
   "source": [
    "## Surgical Techniques"
   ]
  },
  {
   "cell_type": "markdown",
   "metadata": {},
   "source": [
    "### Number of Procedures in each Surgical Category"
   ]
  },
  {
   "cell_type": "code",
   "execution_count": null,
   "metadata": {},
   "outputs": [],
   "source": [
    "surg_tech_color = [\"#1f77b4\", \"#203764\"]\n",
    "surg_tech_values = circ_eda[\"Surgical_Technique\"].value_counts(ascending=True)\n",
    "ax = surg_tech_values.plot(\n",
    "    kind=\"bar\",\n",
    "    rot=0,\n",
    "    width=0.99,\n",
    "    color=surg_tech_color,\n",
    ")\n",
    "\n",
    "for i, v in enumerate(surg_tech_values):\n",
    "    ax.text(i, v - 40, str(v), ha=\"center\", color=\"yellow\")\n",
    "ax.set_title(\"Number of Procedures in Each Surgical Category\")\n",
    "ax.set_xlabel(\"Surgical Technique\")\n",
    "ax.set_ylabel(\"Count\")\n",
    "plt.savefig(os.path.join(image_path_svg, \"surgical_technique_by_count.svg\"))\n",
    "plt.savefig(os.path.join(image_path_png, \"surgical_technique_by_count.png\"))\n",
    "plt.show()"
   ]
  },
  {
   "cell_type": "markdown",
   "metadata": {},
   "source": [
    "### Surgical Technique by Mean Time (in Minutes)"
   ]
  },
  {
   "cell_type": "code",
   "execution_count": null,
   "metadata": {},
   "outputs": [],
   "source": [
    "surgical_techniques = circ_eda.groupby(\"Surgical_Technique\")[\"Surgical_Time_min\"].agg(\n",
    "    \"mean\"\n",
    ")\n",
    "\n",
    "ax = (\n",
    "    circ_eda.groupby(\"Surgical_Technique\")[\"Surgical_Time_min\"]\n",
    "    .agg(\"mean\")\n",
    "    .plot(\n",
    "        kind=\"bar\",\n",
    "        rot=0,\n",
    "        width=0.99,\n",
    "        color=surg_tech_color,\n",
    "    )\n",
    ")\n",
    "\n",
    "for i, v in enumerate(surgical_techniques):\n",
    "    ax.text(i, v - 15, f\"{v:.2f}\", ha=\"center\", color=\"yellow\")\n",
    "\n",
    "ax.set_title(\"Surgical Technique by Mean Time (in Minutes)\")\n",
    "plt.xlabel(\"Surgical Technique\")\n",
    "plt.ylabel(\"Surgical Time in Minutes\")\n",
    "plt.savefig(os.path.join(image_path_svg, \"surgical_technique_by_mean_time.svg\"))\n",
    "plt.savefig(os.path.join(image_path_png, \"surgical_technique_by_mean_time.png\"))\n",
    "plt.show()"
   ]
  },
  {
   "cell_type": "markdown",
   "metadata": {},
   "source": [
    "### Antibiotics by Surgical Technique"
   ]
  },
  {
   "cell_type": "code",
   "execution_count": null,
   "metadata": {},
   "outputs": [],
   "source": [
    "antibiotic_by_surgical_technique = pd.crosstab(\n",
    "    circ_eda[\"Preop_drugs_antibiotic\"], circ_eda[\"Surgical_Technique\"]\n",
    ")\n",
    "\n",
    "antibiotic_by_surgical_technique"
   ]
  },
  {
   "cell_type": "code",
   "execution_count": null,
   "metadata": {},
   "outputs": [],
   "source": [
    "antibiotic_by_surgical_technique.plot(\n",
    "    kind=\"bar\",\n",
    "    rot=0,\n",
    "    color=surg_tech_color,\n",
    ")\n",
    "\n",
    "\n",
    "plt.title(\"Type of Antibiotic by Surgical Technique\")\n",
    "plt.xlabel(\"Antibiotic\")\n",
    "plt.ylabel(\"Count\")\n",
    "plt.savefig(os.path.join(image_path_png, \"antibiotic_by_surgical_technique.png\"))\n",
    "plt.savefig(os.path.join(image_path_svg, \"antibiotic_by_surgical_technique.svg\"))\n",
    "plt.show()"
   ]
  },
  {
   "cell_type": "markdown",
   "metadata": {},
   "source": [
    "### Anesthesia by Surgical Technique"
   ]
  },
  {
   "cell_type": "code",
   "execution_count": null,
   "metadata": {},
   "outputs": [],
   "source": [
    "anesthesia_by_surgical_technique = pd.crosstab(\n",
    "    circ_eda[\"Anesthesia_Type\"], circ_eda[\"Surgical_Technique\"]\n",
    ")\n",
    "\n",
    "anesthesia_by_surgical_technique"
   ]
  },
  {
   "cell_type": "code",
   "execution_count": null,
   "metadata": {},
   "outputs": [],
   "source": [
    "anesthesia_by_surgical_technique.plot(\n",
    "    kind=\"bar\",\n",
    "    rot=0,\n",
    "    color=surg_tech_color,\n",
    ")\n",
    "\n",
    "\n",
    "plt.title(\"Type of Anesthesia by Surgical Technique\")\n",
    "plt.xlabel(\"Anesthesia Type\")\n",
    "plt.ylabel(\"Count\")\n",
    "plt.savefig(os.path.join(image_path_png, \"anesthesia_by_surgical_technique.png\"))\n",
    "plt.savefig(os.path.join(image_path_svg, \"anesthesia_by_surgical_technique.svg\"))\n",
    "\n",
    "\n",
    "plt.show()"
   ]
  },
  {
   "cell_type": "markdown",
   "metadata": {},
   "source": [
    "### Box Plot of Surgical Time by Surgical Technique"
   ]
  },
  {
   "cell_type": "code",
   "execution_count": null,
   "metadata": {},
   "outputs": [],
   "source": [
    "# Box plot for Surgical_Time_min across different Surgical_Techniques\n",
    "unique_techniques = circ_eda[\"Surgical_Technique\"].unique()\n",
    "technique_colors = dict(zip(unique_techniques, surg_tech_color))\n",
    "sns.boxplot(\n",
    "    x=\"Surgical_Technique\",\n",
    "    y=\"Surgical_Time_min\",\n",
    "    data=circ_eda,\n",
    "    hue=\"Surgical_Technique\",\n",
    "    palette=technique_colors,\n",
    "    medianprops={\"color\": \"yellow\", \"linewidth\": 1},  # Setting median line props\n",
    ")\n",
    "plt.title(\"Box plot of Surgical Time by Surgical Technique\")\n",
    "plt.ylabel(\"Surgical Time (min)\")\n",
    "plt.xlabel(\"Surgical Technique\")\n",
    "plt.xticks(rotation=0)\n",
    "plt.savefig(\n",
    "    os.path.join(image_path_png, \"surgical_time_by_technique_boxplot.png\"),\n",
    ")\n",
    "plt.savefig(\n",
    "    os.path.join(image_path_svg, \"surgical_time_by_technique_boxplot.svg\"),\n",
    ")\n",
    "plt.show()"
   ]
  },
  {
   "cell_type": "markdown",
   "metadata": {},
   "source": [
    "### Box Plot of Intraoperative Blood Loss by Surgical Technique"
   ]
  },
  {
   "cell_type": "code",
   "execution_count": null,
   "metadata": {},
   "outputs": [],
   "source": [
    "# Box plot for Intraoperative_Blood_Loss_ml across different Surgical_Techniques\n",
    "sns.boxplot(\n",
    "    x=\"Surgical_Technique\",\n",
    "    y=\"Intraoperative_Blood_Loss_ml\",\n",
    "    data=circ_eda,\n",
    "    hue=\"Surgical_Technique\",\n",
    "    palette=technique_colors,\n",
    "    medianprops={\"color\": \"yellow\", \"linewidth\": 1},  # Setting median line props\n",
    ")\n",
    "plt.title(\"Box plot of Intraoperative Blood Loss by Surgical Technique\")\n",
    "plt.ylabel(\"Intraoperative Blood Loss (ml)\")\n",
    "plt.xlabel(\"Surgical Technique\")\n",
    "plt.xticks(rotation=0)\n",
    "plt.savefig(\n",
    "    os.path.join(image_path_png, \"intraop_blood_loss_by_technique_boxplot.png\"),\n",
    ")\n",
    "plt.savefig(\n",
    "    os.path.join(image_path_svg, \"intraop_blood_loss_by_technique_boxplot.svg\"),\n",
    ")\n",
    "plt.show()"
   ]
  },
  {
   "cell_type": "markdown",
   "metadata": {},
   "source": [
    "### Boxplot of Surgical Time by Anesthesia Type"
   ]
  },
  {
   "cell_type": "code",
   "execution_count": null,
   "metadata": {},
   "outputs": [],
   "source": [
    "# Box plot for Intraoperative_Blood_Loss_ml across different Anesthesia Types\n",
    "sns.boxplot(\n",
    "    x=\"Anesthesia_Type\",\n",
    "    y=\"Surgical_Time_min\",\n",
    "    hue=\"Anesthesia_Type\",\n",
    "    data=circ_eda,\n",
    ")\n",
    "plt.title(\"Box plot of Surgical Time by Anesthesia Type\")\n",
    "plt.ylabel(\"Surgical Time (min)\")\n",
    "plt.xlabel(\"Anesthesia Type\")\n",
    "plt.xticks(rotation=0)\n",
    "plt.savefig(os.path.join(image_path_png, \"anesthesia_surgical_time_boxplot.png\"))\n",
    "plt.savefig(os.path.join(image_path_svg, \"anesthesia_surgical_time_boxplot.svg\"))\n",
    "plt.show()"
   ]
  },
  {
   "cell_type": "markdown",
   "metadata": {},
   "source": [
    "### Box Plot of Intraoperative Blood Loss by Anesthesia Type"
   ]
  },
  {
   "cell_type": "code",
   "execution_count": null,
   "metadata": {},
   "outputs": [],
   "source": [
    "# Box plot for Intraoperative_Blood_Loss_ml across different Anesthesia Types\n",
    "sns.boxplot(\n",
    "    x=\"Anesthesia_Type\",\n",
    "    y=\"Intraoperative_Blood_Loss_ml\",\n",
    "    hue=\"Anesthesia_Type\",\n",
    "    data=circ_eda,\n",
    ")\n",
    "plt.title(\"Box plot of Intraoperative Blood Loss by Anesthesia Type\")\n",
    "plt.ylabel(\"Intraoperative Blood Loss (ml)\")\n",
    "plt.xlabel(\"Anesthesia Type\")\n",
    "plt.xticks(rotation=0)\n",
    "plt.savefig(os.path.join(image_path_png, \"anesthesia_blood_loss_boxplot.png\"))\n",
    "plt.savefig(os.path.join(image_path_svg, \"anesthesia_blood_loss_boxplot.svg\"))\n",
    "plt.show()"
   ]
  },
  {
   "cell_type": "markdown",
   "metadata": {},
   "source": [
    "### Box Plot of Surgical Time (min) by Preoperative Antibiotic"
   ]
  },
  {
   "cell_type": "code",
   "execution_count": null,
   "metadata": {},
   "outputs": [],
   "source": [
    "# Box plot for Intraoperative_Blood_Loss_ml across different Anesthesia Types\n",
    "sns.boxplot(\n",
    "    x=\"Preop_drugs_antibiotic\",\n",
    "    y=\"Surgical_Time_min\",\n",
    "    hue=\"Preop_drugs_antibiotic\",\n",
    "    data=circ_eda,\n",
    ")\n",
    "plt.title(\"Box plot of Surgical Time (min) by Preoperative Antibiotic\")\n",
    "plt.ylabel(\"Surgical Time (min)\")\n",
    "plt.xlabel(\"Antibiotic Type\")\n",
    "plt.xticks(rotation=0)\n",
    "plt.savefig(os.path.join(image_path_png, \"antibiotic_surgical_time_boxplot.png\"))\n",
    "plt.savefig(os.path.join(image_path_svg, \"antibiotic_surgical_time_boxplot.svg\"))\n",
    "plt.show()"
   ]
  },
  {
   "cell_type": "markdown",
   "metadata": {},
   "source": [
    "### Box Plot of Intraoperative Blood Loss by Preoperative Antibiotic"
   ]
  },
  {
   "cell_type": "code",
   "execution_count": null,
   "metadata": {},
   "outputs": [],
   "source": [
    "# Box plot for Intraoperative_Blood_Loss_ml across different Anesthesia Types\n",
    "sns.boxplot(\n",
    "    x=\"Preop_drugs_antibiotic\",\n",
    "    y=\"Intraoperative_Blood_Loss_ml\",\n",
    "    hue=\"Preop_drugs_antibiotic\",\n",
    "    data=circ_eda,\n",
    ")\n",
    "plt.title(\"Box plot of Intraoperative Blood Loss by Preoperative Antibiotic\")\n",
    "plt.ylabel(\"Intraoperative Blood Loss (ml)\")\n",
    "plt.xlabel(\"Antibiotic Type\")\n",
    "plt.xticks(rotation=0)\n",
    "plt.savefig(os.path.join(image_path_png, \"antibiotic_blood_loss_boxplot.png\"))\n",
    "plt.savefig(os.path.join(image_path_svg, \"antibiotic_blood_loss_boxplot.svg\"))\n",
    "plt.show()"
   ]
  },
  {
   "cell_type": "markdown",
   "metadata": {},
   "source": [
    "### Prevalance of Functional Outcomes by Surgical Technique"
   ]
  },
  {
   "cell_type": "code",
   "execution_count": null,
   "metadata": {},
   "outputs": [],
   "source": [
    "# List of custom plotting titles\n",
    "functional_title_list = [\n",
    "    \"Pain\",\n",
    "    \"Bleeding\",\n",
    "    \"Edema\",\n",
    "    \"Infection\",\n",
    "    \"Recovery\",\n",
    "    \"Satisfaction\",\n",
    "    \"Comorbidities\",\n",
    "    \"Surgical Technique\",\n",
    "]\n",
    "\n",
    "functional_list = [col for col in circ_eda.columns if \"Functional\" in col]\n",
    "\n",
    "\n",
    "functional_labels = {\n",
    "    \"Functional_Outcomes_Pain\": {0: \"No Pain\", 1: \"Pain\"},\n",
    "    \"Functional_Outcomes_Bleeding\": {0: \"No Bleeding\", 1: \"Bleeding\"},\n",
    "    \"Functional_Outcomes_Edema\": {0: \"No Edema\", 1: \"Edema\"},\n",
    "    \"Functional_Outcomes_Infection\": {0: \"No Infection\", 1: \"Infection\"},\n",
    "    \"Functional_Outcomes_Fast_Recovery\": {0: \"Not Fast Recovery\", 1: \"Fast Recovery\"},\n",
    "    \"Functional_Outcomes_Cosmetic_Satisfaction\": {\n",
    "        0: \"No Satisfaction\",\n",
    "        1: \"Satisfaction\",\n",
    "    },\n",
    "}\n",
    "\n",
    "\n",
    "for item, title in zip(functional_list, functional_title_list):\n",
    "    ax = pd.crosstab(\n",
    "        circ_eda[item].map(functional_labels[item]),\n",
    "        circ_eda[\"Surgical_Technique\"],\n",
    "    ).plot(\n",
    "        kind=\"bar\",\n",
    "        # stacked=True,\n",
    "        # width=0.9,\n",
    "        rot=0,\n",
    "        color=technique_colors,\n",
    "    )\n",
    "\n",
    "    ax.set_ylabel(\"Count\")\n",
    "    ax.set_title(f\"Prevalence of {title} by Surgical Technique\")\n",
    "    # Setting labels for x-axis ticks\n",
    "    ax.set_xticklabels(functional_labels[item].values())\n",
    "    ax.set_xlabel(title)\n",
    "\n",
    "    plt.savefig(\n",
    "        os.path.join(\n",
    "            image_path_png, f\"Prevalance_of_{title}_by_surgical_technique.png\"\n",
    "        ),\n",
    "    )\n",
    "\n",
    "    plt.savefig(\n",
    "        os.path.join(\n",
    "            image_path_svg, f\"Prevalance_of_{title}_by_surgical_technique.svg\"\n",
    "        ),\n",
    "    )\n",
    "\n",
    "\n",
    "plt.show()"
   ]
  },
  {
   "cell_type": "markdown",
   "metadata": {},
   "source": [
    "## Socioeconomic Impacts"
   ]
  },
  {
   "cell_type": "markdown",
   "metadata": {},
   "source": [
    "### Religious Affiliation by Geographical Origin"
   ]
  },
  {
   "cell_type": "code",
   "execution_count": null,
   "metadata": {},
   "outputs": [],
   "source": [
    "circ_eda[\"Cultural_Religious_Affiliation\"].unique().tolist()"
   ]
  },
  {
   "cell_type": "code",
   "execution_count": null,
   "metadata": {},
   "outputs": [],
   "source": [
    "ct = pd.crosstab(\n",
    "    circ_eda[\"Cultural_Religious_Affiliation\"],\n",
    "    circ_eda[\"Geographical_Origin\"],\n",
    "    margins=True,\n",
    "    margins_name=\"Total\",\n",
    ")\n",
    "\n",
    "highlight_columns(ct, \"Total\", color=\"brown\")"
   ]
  },
  {
   "cell_type": "code",
   "execution_count": null,
   "metadata": {},
   "outputs": [],
   "source": [
    "# create a heatmap of the crosstab between religion and geo. origin\n",
    "plt.figure(figsize=(9, 6))\n",
    "sns.heatmap(\n",
    "    pd.crosstab(\n",
    "        circ_eda[\"Geographical_Origin\"], circ_eda[\"Cultural_Religious_Affiliation\"]\n",
    "    ),\n",
    "    annot=True,\n",
    "    cmap=\"rocket_r\",\n",
    "    fmt=\"d\",\n",
    ")\n",
    "plt.title(\"Cultural Religious Affiliation by Geographical Origin\")\n",
    "plt.xlabel(\"Geographical Origin\")\n",
    "plt.savefig(\n",
    "    os.path.join(image_path_png, \"religion_by_geog_origin.png\"),\n",
    "    bbox_inches=\"tight\",\n",
    ")\n",
    "plt.savefig(\n",
    "    os.path.join(image_path_svg, \"religion_by_geog_origin.svg\"),\n",
    "    bbox_inches=\"tight\",\n",
    ")\n",
    "plt.show()"
   ]
  },
  {
   "cell_type": "markdown",
   "metadata": {},
   "source": [
    "### Total Cost by Coverage Type"
   ]
  },
  {
   "cell_type": "code",
   "execution_count": null,
   "metadata": {},
   "outputs": [],
   "source": [
    "total_cost_ins_values = circ_eda[\"Cost_Type\"].value_counts(ascending=True)\n",
    "ins_bar_col = [\"#1f77b4\", \"#c8544c\", \"#555555\"]\n",
    "\n",
    "ax = total_cost_ins_values.plot(\n",
    "    kind=\"barh\",\n",
    "    rot=0,\n",
    "    width=0.99,\n",
    "    legend=False,\n",
    "    color=ins_bar_col,\n",
    ")\n",
    "\n",
    "for i, v in enumerate(total_cost_ins_values.values):\n",
    "    ax.text(v - 5, i, str(v), ha=\"right\", va=\"center\", color=\"yellow\")\n",
    "\n",
    "ax.set_title(\"Total Number of Procedures by Coverage Category\")\n",
    "ax.set_xlabel(\"Number of Procedures\")\n",
    "ax.set_ylabel(\"Cost Type\")\n",
    "plt.savefig(os.path.join(image_path_svg, \"total_number_by_coverage.svg\"))\n",
    "plt.savefig(os.path.join(image_path_png, \"total_number_by_coverage.png\"))\n",
    "plt.show()"
   ]
  },
  {
   "cell_type": "code",
   "execution_count": null,
   "metadata": {},
   "outputs": [],
   "source": [
    "total_cost_by_ins = round(\n",
    "    circ_eda.groupby(\"Cost_Type\")[\"Cost_of_Procedure_euros\"].sum().to_frame(), 2\n",
    ").rename(columns={\"Cost_of_Procedure_euros\": \"Total_Cost\"})\n",
    "\n",
    "ax = total_cost_by_ins.plot(\n",
    "    kind=\"barh\",\n",
    "    rot=0,\n",
    "    width=0.99,\n",
    "    legend=False,\n",
    "    color=ins_bar_col,\n",
    ")\n",
    "\n",
    "# Accessing the bar patches\n",
    "for i, patch in enumerate(ax.patches):\n",
    "    patch.set_facecolor(ins_bar_col[i % len(ins_bar_col)])\n",
    "\n",
    "# Iterate over the DataFrame's rows to place text labels\n",
    "for i, (index, row) in enumerate(total_cost_by_ins.iterrows()):\n",
    "    # Only place text if the cost is greater than 0\n",
    "    if row[\"Total_Cost\"] > 0:\n",
    "        # Use 'i' for the y position and adjust the x position to place the text\n",
    "        # to the right of the bar's end\n",
    "        ax.text(\n",
    "            row[\"Total_Cost\"] - 10000,\n",
    "            i,\n",
    "            f\"{row['Total_Cost']} €\",\n",
    "            ha=\"left\",\n",
    "            va=\"center\",\n",
    "            color=\"yellow\",\n",
    "        )\n",
    "\n",
    "ax.set_title(\"Total Cost of Procedure by Coverage Category\")\n",
    "ax.set_xlabel(\"Cost (in €)\")\n",
    "ax.set_ylabel(\"Cost Type\")\n",
    "\n",
    "plt.savefig(os.path.join(image_path_svg, \"total_cost_by_coverage.svg\"))\n",
    "plt.savefig(os.path.join(image_path_png, \"total_cost_by_coverage.png\"))\n",
    "\n",
    "plt.show()\n",
    "total_cost_by_ins"
   ]
  },
  {
   "cell_type": "markdown",
   "metadata": {},
   "source": [
    "### Average Cost by Coverage Type"
   ]
  },
  {
   "cell_type": "code",
   "execution_count": null,
   "metadata": {},
   "outputs": [],
   "source": [
    "avg_cost_by_ins = round(\n",
    "    circ_eda.groupby(\"Cost_Type\")[\"Cost_of_Procedure_euros\"].agg(\"mean\").to_frame(), 2\n",
    ").rename(columns={\"Cost_of_Procedure_euros\": \"Average_Cost\"})\n",
    "\n",
    "\n",
    "ax = avg_cost_by_ins.plot(\n",
    "    kind=\"barh\",\n",
    "    rot=0,\n",
    "    width=0.99,\n",
    "    legend=False,\n",
    ")\n",
    "\n",
    "# Get the y-axis labels (which are the categories) as a list\n",
    "y_labels = avg_cost_by_ins.index.tolist()\n",
    "\n",
    "# Accessing the bar patches\n",
    "for i, patch in enumerate(ax.patches):\n",
    "    patch.set_facecolor(ins_bar_col[i % len(ins_bar_col)])\n",
    "\n",
    "# Iterate over the DataFrame's rows to place text labels\n",
    "for i, (index, row) in enumerate(avg_cost_by_ins.iterrows()):\n",
    "    # Only place text if the cost is greater than 0\n",
    "    if row[\"Average_Cost\"] > 0:\n",
    "        # Use 'i' for the y position and adjust the x position to place the text\n",
    "        # to the right of the bar's end\n",
    "        ax.text(\n",
    "            row[\"Average_Cost\"] - 200,\n",
    "            i,\n",
    "            f\"{row['Average_Cost']} €\",\n",
    "            ha=\"left\",\n",
    "            va=\"center\",\n",
    "            color=\"yellow\",\n",
    "        )\n",
    "\n",
    "ax.set_title(\"Average Cost of Procedure by Coverage Category\")\n",
    "ax.set_xlabel(\"Cost (in €)\")\n",
    "ax.set_ylabel(\"Cost Type\")\n",
    "plt.savefig(os.path.join(image_path_svg, \"avg_cost_by_coverage.svg\"))\n",
    "plt.savefig(os.path.join(image_path_png, \"avg_cost_by_coverage.png\"))\n",
    "\n",
    "\n",
    "plt.show()\n",
    "avg_cost_by_ins"
   ]
  },
  {
   "cell_type": "markdown",
   "metadata": {},
   "source": [
    "### Number of Patients by Country of Origin"
   ]
  },
  {
   "cell_type": "code",
   "execution_count": null,
   "metadata": {},
   "outputs": [],
   "source": [
    "circ_eda[\"Geographical_Origin\"].value_counts(ascending=True).plot(kind=\"barh\")\n",
    "plt.title(\"Number of Patients by Country of Origin\")\n",
    "plt.xlabel(\"Number of Patients\")\n",
    "plt.ylabel(\"Country of Origin\")\n",
    "plt.savefig(\n",
    "    os.path.join(image_path_svg, \"number_patients_by_country.svg\"),\n",
    "    bbox_inches=\"tight\",\n",
    ")\n",
    "plt.savefig(\n",
    "    os.path.join(image_path_png, \"number_patients_by_country.png\"),\n",
    "    bbox_inches=\"tight\",\n",
    ")\n",
    "plt.show()"
   ]
  },
  {
   "cell_type": "markdown",
   "metadata": {},
   "source": [
    "### Cost of Procedure by Country of Origin"
   ]
  },
  {
   "cell_type": "code",
   "execution_count": null,
   "metadata": {},
   "outputs": [],
   "source": [
    "circ_eda.groupby(\"Geographical_Origin\")[\"Cost_of_Procedure_euros\"].agg(\n",
    "    \"mean\"\n",
    ").sort_values().plot(kind=\"barh\")\n",
    "\n",
    "plt.title(\"Average Cost of Procedure by Country of Origin\")\n",
    "plt.xlabel(\"Cost (in €)\")\n",
    "plt.ylabel(\"Country of Origin\")\n",
    "\n",
    "\n",
    "plt.savefig(\n",
    "    os.path.join(image_path_svg, \"cost_by_country.svg\"),\n",
    "    bbox_inches=\"tight\",\n",
    ")\n",
    "\n",
    "\n",
    "plt.savefig(\n",
    "    os.path.join(image_path_png, \"cost_by_country.png\"),\n",
    "    bbox_inches=\"tight\",\n",
    ")\n",
    "plt.show()"
   ]
  }
 ],
 "metadata": {
  "kernelspec": {
   "display_name": "venv_circ_311",
   "language": "python",
   "name": "python3"
  },
  "language_info": {
   "codemirror_mode": {
    "name": "ipython",
    "version": 3
   },
   "file_extension": ".py",
   "mimetype": "text/x-python",
   "name": "python",
   "nbconvert_exporter": "python",
   "pygments_lexer": "ipython3",
   "version": "3.11.11"
  }
 },
 "nbformat": 4,
 "nbformat_minor": 2
}
