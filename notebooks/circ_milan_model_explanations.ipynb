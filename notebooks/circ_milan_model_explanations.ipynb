{
 "cells": [
  {
   "cell_type": "markdown",
   "metadata": {},
   "source": [
    "# Modeling"
   ]
  },
  {
   "cell_type": "markdown",
   "metadata": {},
   "source": [
    "## Import Requisite Libraries"
   ]
  },
  {
   "cell_type": "code",
   "execution_count": null,
   "metadata": {},
   "outputs": [],
   "source": [
    "######################## Standard Library Imports ##############################\n",
    "import pandas as pd\n",
    "import numpy as np\n",
    "import os\n",
    "import sys\n",
    "\n",
    "from eda_toolkit import ensure_directory, generate_table1\n",
    "\n",
    "######################## Modeling Library Imports ##############################\n",
    "import shap\n",
    "from model_tuner.pickleObjects import loadObjects\n",
    "import model_tuner\n",
    "import eda_toolkit\n",
    "from sklearn.decomposition import PCA\n",
    "from sklearn.preprocessing import LabelEncoder\n",
    "import matplotlib.pyplot as plt\n",
    "\n",
    "\n",
    "# Add the parent directory to sys.path to access 'functions.py'\n",
    "sys.path.append(os.path.join(os.pardir))\n",
    "\n",
    "from constants import patient_id\n",
    "\n",
    "print(\n",
    "    f\"This project uses: \\n \\n Python {sys.version.split()[0]} \\n model_tuner \"\n",
    "    f\"{model_tuner.__version__} \\n eda_toolkit {eda_toolkit.__version__}\"\n",
    ")"
   ]
  },
  {
   "cell_type": "markdown",
   "metadata": {},
   "source": [
    "## Set Paths & Read in the Data"
   ]
  },
  {
   "cell_type": "code",
   "execution_count": null,
   "metadata": {},
   "outputs": [],
   "source": [
    "# Define your base paths\n",
    "# `base_path`` represents the parent directory of your current working directory\n",
    "base_path = os.path.join(os.pardir)\n",
    "# Go up one level from 'notebooks' to the parent directory, then into the 'data' folder\n",
    "\n",
    "data_path = os.path.join(os.pardir, \"data\")\n",
    "image_path_png = os.path.join(base_path, \"images\", \"png_images\", \"modeling\")\n",
    "image_path_svg = os.path.join(base_path, \"images\", \"svg_images\", \"modeling\")\n",
    "\n",
    "# Use the function to ensure the 'data' directory exists\n",
    "ensure_directory(data_path)\n",
    "ensure_directory(image_path_png)\n",
    "ensure_directory(image_path_svg)"
   ]
  },
  {
   "cell_type": "code",
   "execution_count": null,
   "metadata": {},
   "outputs": [],
   "source": [
    "data_path = \"../data/processed/\"\n",
    "model_path = \"../mlruns/models/\""
   ]
  },
  {
   "cell_type": "code",
   "execution_count": null,
   "metadata": {},
   "outputs": [],
   "source": [
    "df = pd.read_parquet(os.path.join(data_path, \"X.parquet\"))  # Change delimiter as needed\n",
    "df.head()"
   ]
  },
  {
   "cell_type": "code",
   "execution_count": null,
   "metadata": {},
   "outputs": [],
   "source": [
    "df.shape"
   ]
  },
  {
   "cell_type": "code",
   "execution_count": null,
   "metadata": {},
   "outputs": [],
   "source": [
    "df.columns.to_list()"
   ]
  },
  {
   "cell_type": "code",
   "execution_count": null,
   "metadata": {},
   "outputs": [],
   "source": [
    "df[\"Diabetes\"].value_counts()"
   ]
  },
  {
   "cell_type": "code",
   "execution_count": null,
   "metadata": {},
   "outputs": [],
   "source": [
    "df.columns.to_list()"
   ]
  },
  {
   "cell_type": "code",
   "execution_count": null,
   "metadata": {},
   "outputs": [],
   "source": [
    "X = pd.read_parquet(os.path.join(data_path, \"X.parquet\"))\n",
    "y = pd.read_parquet(os.path.join(data_path, \"y_Bleeding_Edema_Outcome.parquet\"))"
   ]
  },
  {
   "cell_type": "code",
   "execution_count": null,
   "metadata": {},
   "outputs": [],
   "source": [
    "df = df.join(y, how=\"inner\", on=\"patient_id\")"
   ]
  },
  {
   "cell_type": "code",
   "execution_count": null,
   "metadata": {},
   "outputs": [],
   "source": [
    "# svm_orig_training\n",
    "model_svm = loadObjects(\n",
    "    os.path.join(\n",
    "        model_path,\n",
    "        \"./452642104975561062/18dc58511b9e45ebaf55308026701c18/artifacts/svm_Bleeding_Edema_Outcome/model.pkl\",\n",
    "    )\n",
    ")"
   ]
  },
  {
   "cell_type": "code",
   "execution_count": null,
   "metadata": {},
   "outputs": [],
   "source": [
    "pipelines_or_models = [model_svm]\n",
    "\n",
    "# Model titles\n",
    "model_titles = [\n",
    "    \"Support Vector Machines\",\n",
    "]\n",
    "\n",
    "\n",
    "thresholds = {\n",
    "    \"Support Vector Machines\": next(iter(model_svm.threshold.values())),\n",
    "}"
   ]
  },
  {
   "cell_type": "markdown",
   "metadata": {},
   "source": [
    "## Summarize Model Performance"
   ]
  },
  {
   "cell_type": "code",
   "execution_count": null,
   "metadata": {},
   "outputs": [],
   "source": [
    "pipelines_or_models"
   ]
  },
  {
   "cell_type": "code",
   "execution_count": null,
   "metadata": {},
   "outputs": [],
   "source": [
    "from model_metrics import summarize_model_performance\n",
    "\n",
    "table3 = summarize_model_performance(\n",
    "    model=pipelines_or_models,\n",
    "    X=X,\n",
    "    y=y,\n",
    "    model_title=model_titles,\n",
    "    model_threshold=thresholds,\n",
    "    return_df=True,\n",
    ")"
   ]
  },
  {
   "cell_type": "code",
   "execution_count": null,
   "metadata": {},
   "outputs": [],
   "source": [
    "table3"
   ]
  },
  {
   "cell_type": "code",
   "execution_count": null,
   "metadata": {},
   "outputs": [],
   "source": [
    "X = pd.read_parquet(os.path.join(data_path, \"X.parquet\"))\n",
    "y = pd.read_parquet(os.path.join(data_path, \"y_Bleeding_Edema_Outcome.parquet\"))"
   ]
  },
  {
   "cell_type": "code",
   "execution_count": null,
   "metadata": {},
   "outputs": [],
   "source": [
    "explainer = pd.read_csv(\n",
    "    os.path.join(data_path, \"shap_predictions_Bleeding_Edema_Outcome.csv\")\n",
    ")\n",
    "explainer.index = explainer.index.astype(int)\n",
    "explainer = explainer.set_index(\"patient_id\")\n",
    "df.index = df.index.astype(int)"
   ]
  },
  {
   "cell_type": "code",
   "execution_count": null,
   "metadata": {},
   "outputs": [],
   "source": [
    "explainer"
   ]
  },
  {
   "cell_type": "code",
   "execution_count": null,
   "metadata": {},
   "outputs": [],
   "source": [
    "# Join on index\n",
    "merged_explainer = explainer.join(df, how=\"inner\", on=patient_id)"
   ]
  },
  {
   "cell_type": "code",
   "execution_count": null,
   "metadata": {},
   "outputs": [],
   "source": [
    "merged_explainer.to_csv(os.path.join(data_path, \"explainer_df.csv\"))"
   ]
  },
  {
   "cell_type": "code",
   "execution_count": null,
   "metadata": {},
   "outputs": [],
   "source": [
    "merged_explainer"
   ]
  },
  {
   "cell_type": "markdown",
   "metadata": {},
   "source": [
    "## Bleeding, Edema, Pain Prevalence"
   ]
  },
  {
   "cell_type": "code",
   "execution_count": null,
   "metadata": {},
   "outputs": [],
   "source": [
    "print(merged_explainer[\"Bleeding_Edema_Outcome\"].value_counts(1), \"\\n\")\n",
    "print(merged_explainer[\"Bleeding_Edema_Outcome\"].value_counts())"
   ]
  },
  {
   "cell_type": "code",
   "execution_count": null,
   "metadata": {},
   "outputs": [],
   "source": [
    "merged_explainer[\n",
    "    (merged_explainer[\"Surgical_Technique\"] == 0)\n",
    "    & (merged_explainer[\"Bleeding_Edema_Outcome\"] == 1)\n",
    "    & (merged_explainer[\"y_pred\"] > 0.24)\n",
    "]"
   ]
  },
  {
   "cell_type": "markdown",
   "metadata": {},
   "source": [
    "### Laser Circumcision W/ Predictions Over Threshold"
   ]
  },
  {
   "cell_type": "code",
   "execution_count": null,
   "metadata": {},
   "outputs": [],
   "source": [
    "merged_explainer[\n",
    "    (merged_explainer[\"Surgical_Technique\"] == 1)\n",
    "    & (merged_explainer[\"y_pred_proba\"] >= 0.24)\n",
    "][\"Bleeding_Edema_Outcome\"].value_counts()"
   ]
  },
  {
   "cell_type": "markdown",
   "metadata": {},
   "source": [
    "### Traditional Circumcision W/ Predictions Over Threshold"
   ]
  },
  {
   "cell_type": "code",
   "execution_count": null,
   "metadata": {},
   "outputs": [],
   "source": [
    "merged_explainer[\n",
    "    (merged_explainer[\"Surgical_Technique\"] == 0)\n",
    "    & (merged_explainer[\"y_pred_proba\"] >= 0.24)\n",
    "][\"Bleeding_Edema_Outcome\"].value_counts()"
   ]
  }
 ],
 "metadata": {
  "kernelspec": {
   "display_name": "venv_circ_311",
   "language": "python",
   "name": "python3"
  },
  "language_info": {
   "codemirror_mode": {
    "name": "ipython",
    "version": 3
   },
   "file_extension": ".py",
   "mimetype": "text/x-python",
   "name": "python",
   "nbconvert_exporter": "python",
   "pygments_lexer": "ipython3",
   "version": "3.11.11"
  }
 },
 "nbformat": 4,
 "nbformat_minor": 2
}
