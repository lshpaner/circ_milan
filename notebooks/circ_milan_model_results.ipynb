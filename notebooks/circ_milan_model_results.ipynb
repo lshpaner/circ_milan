{
 "cells": [
  {
   "cell_type": "markdown",
   "metadata": {},
   "source": [
    "# Modeling"
   ]
  },
  {
   "cell_type": "markdown",
   "metadata": {},
   "source": [
    "## Import Requisite Libraries"
   ]
  },
  {
   "cell_type": "code",
   "execution_count": null,
   "metadata": {},
   "outputs": [],
   "source": [
    "######################## Standard Library Imports ##############################\n",
    "import pandas as pd\n",
    "import numpy as np\n",
    "import os\n",
    "import sys\n",
    "\n",
    "from eda_toolkit import ensure_directory, generate_table1\n",
    "\n",
    "######################## Modeling Library Imports ##############################\n",
    "import shap\n",
    "from model_tuner.pickleObjects import loadObjects\n",
    "import model_tuner\n",
    "import eda_toolkit\n",
    "from sklearn.decomposition import PCA\n",
    "from sklearn.preprocessing import LabelEncoder\n",
    "import matplotlib.pyplot as plt\n",
    "\n",
    "\n",
    "# Add the parent directory to sys.path to access 'functions.py'\n",
    "sys.path.append(os.path.join(os.pardir))\n",
    "\n",
    "print(\n",
    "    f\"This project uses: \\n \\n Python {sys.version.split()[0]} \\n model_tuner \"\n",
    "    f\"{model_tuner.__version__} \\n eda_toolkit {eda_toolkit.__version__}\"\n",
    ")"
   ]
  },
  {
   "cell_type": "markdown",
   "metadata": {},
   "source": [
    "## Set Paths & Read in the Data"
   ]
  },
  {
   "cell_type": "code",
   "execution_count": null,
   "metadata": {},
   "outputs": [],
   "source": [
    "# Define your base paths\n",
    "# `base_path`` represents the parent directory of your current working directory\n",
    "base_path = os.path.join(os.pardir)\n",
    "# Go up one level from 'notebooks' to the parent directory, then into the 'data' folder\n",
    "\n",
    "data_path = os.path.join(os.pardir, \"data\")\n",
    "image_path_png = os.path.join(base_path, \"images\", \"png_images\", \"modeling\")\n",
    "image_path_svg = os.path.join(base_path, \"images\", \"svg_images\", \"modeling\")\n",
    "\n",
    "# Use the function to ensure the 'data' directory exists\n",
    "ensure_directory(data_path)\n",
    "ensure_directory(image_path_png)\n",
    "ensure_directory(image_path_svg)"
   ]
  },
  {
   "cell_type": "code",
   "execution_count": null,
   "metadata": {},
   "outputs": [],
   "source": [
    "data_path = \"../data/processed/\"\n",
    "model_path = \"../mlruns/models/\""
   ]
  },
  {
   "cell_type": "code",
   "execution_count": null,
   "metadata": {},
   "outputs": [],
   "source": [
    "df = pd.read_parquet(os.path.join(data_path, \"X.parquet\"))"
   ]
  },
  {
   "cell_type": "code",
   "execution_count": null,
   "metadata": {},
   "outputs": [],
   "source": [
    "df.columns.to_list()"
   ]
  },
  {
   "cell_type": "code",
   "execution_count": null,
   "metadata": {},
   "outputs": [],
   "source": [
    "X = pd.read_parquet(os.path.join(data_path, \"X.parquet\"))\n",
    "y = pd.read_parquet(os.path.join(data_path, \"y_Bleeding_Edema_Outcome.parquet\"))\n",
    "df = df.join(y, how=\"inner\", on=\"patient_id\")"
   ]
  },
  {
   "cell_type": "markdown",
   "metadata": {},
   "source": [
    "### Load Models"
   ]
  },
  {
   "cell_type": "code",
   "execution_count": null,
   "metadata": {},
   "outputs": [],
   "source": [
    "# lr_smote_training\n",
    "model_lr = loadObjects(\n",
    "    os.path.join(\n",
    "        model_path,\n",
    "        \"./452642104975561062/8eab72fdaa134c209521879f18f19d06/artifacts/lr_Bleeding_Edema_Outcome/model.pkl\",\n",
    "    )\n",
    ")\n",
    "\n",
    "# rf_over_training\n",
    "model_rf = loadObjects(\n",
    "    os.path.join(\n",
    "        model_path,\n",
    "        \"./452642104975561062/d18ee7233d0f40ae968e57b596b75ac7/artifacts/rf_Bleeding_Edema_Outcome/model.pkl\",\n",
    "    )\n",
    ")\n",
    "\n",
    "# svm_orig_training\n",
    "model_svm = loadObjects(\n",
    "    os.path.join(\n",
    "        model_path,\n",
    "        \"./452642104975561062/18dc58511b9e45ebaf55308026701c18/artifacts/svm_Bleeding_Edema_Outcome/model.pkl\",\n",
    "    )\n",
    ")"
   ]
  },
  {
   "cell_type": "markdown",
   "metadata": {},
   "source": [
    "### Set-up Pipelines, Model Titles, and Thresholds"
   ]
  },
  {
   "cell_type": "code",
   "execution_count": null,
   "metadata": {},
   "outputs": [],
   "source": [
    "pipelines_or_models = [model_lr, model_rf, model_svm]\n",
    "\n",
    "# Model titles\n",
    "model_titles = [\n",
    "    \"Logistic Regression\",\n",
    "    \"Random Forest Classifier\",\n",
    "    \"Support Vector Machines\",\n",
    "]\n",
    "\n",
    "\n",
    "thresholds = {\n",
    "    \"Logistic Regression\": next(iter(model_lr.threshold.values())),\n",
    "    \"Random Forest Classifier\": next(iter(model_rf.threshold.values())),\n",
    "    \"Support Vector Machines\": next(iter(model_svm.threshold.values())),\n",
    "}"
   ]
  },
  {
   "cell_type": "code",
   "execution_count": null,
   "metadata": {},
   "outputs": [],
   "source": [
    "for col in X.columns:\n",
    "    if col.startswith(\"BMI_\"):\n",
    "        print(f\"Value Counts for column {col}:\\n\")\n",
    "        print(X[col].value_counts())\n",
    "        print(\"\\n\")"
   ]
  },
  {
   "cell_type": "markdown",
   "metadata": {},
   "source": [
    "## Summarize Model Performance"
   ]
  },
  {
   "cell_type": "code",
   "execution_count": null,
   "metadata": {},
   "outputs": [],
   "source": [
    "from model_metrics import summarize_model_performance\n",
    "\n",
    "table3 = summarize_model_performance(\n",
    "    model=pipelines_or_models,\n",
    "    X=X,\n",
    "    y=y,\n",
    "    model_title=model_titles,\n",
    "    model_threshold=thresholds,\n",
    "    return_df=True,\n",
    ")"
   ]
  },
  {
   "cell_type": "code",
   "execution_count": null,
   "metadata": {},
   "outputs": [],
   "source": [
    "table3"
   ]
  },
  {
   "cell_type": "markdown",
   "metadata": {},
   "source": [
    "## SHAP Summary Plot"
   ]
  },
  {
   "cell_type": "markdown",
   "metadata": {},
   "source": [
    "### SHAP (SHapley Additive exPlanations) Set-up"
   ]
  },
  {
   "cell_type": "code",
   "execution_count": null,
   "metadata": {},
   "outputs": [],
   "source": [
    "# Step 1: Get transformed features using model's preprocessing pipeline\n",
    "X_transformed = model_svm.get_preprocessing_and_feature_selection_pipeline().transform(\n",
    "    X\n",
    ")\n",
    "\n",
    "# Optional: Sampling for speed (or just use X_transformed if it's small)\n",
    "sample_size = 100\n",
    "X_sample = shap.utils.sample(X_transformed, sample_size, random_state=42)\n",
    "\n",
    "# Step 2: Get final fitted model (SVC in your pipeline)\n",
    "final_model = model_svm.estimator.named_steps[model_svm.estimator_name]\n",
    "\n",
    "\n",
    "# Step 3: Define a pred. function that returns only the probability for class 1\n",
    "def model_predict(X):\n",
    "    return final_model.predict_proba(X)[:, 1]\n",
    "\n",
    "\n",
    "# Step 4: Create SHAP explainer\n",
    "explainer = shap.KernelExplainer(\n",
    "    model_predict, X_sample, feature_names=model_svm.get_feature_names()\n",
    ")\n",
    "\n",
    "# Step 5: Compute SHAP values for the full dataset or sample\n",
    "shap_values = explainer.shap_values(X_sample)  # can use X_transformed instead"
   ]
  },
  {
   "cell_type": "markdown",
   "metadata": {},
   "source": [
    "### SHAP Beeswarm Plot"
   ]
  },
  {
   "cell_type": "code",
   "execution_count": null,
   "metadata": {},
   "outputs": [],
   "source": [
    "# Step 6a: SHAP beeswarm plot (default)\n",
    "shap.summary_plot(\n",
    "    shap_values,\n",
    "    X_sample,\n",
    "    feature_names=model_svm.get_feature_names(),\n",
    "    show=False,\n",
    ")\n",
    "\n",
    "plt.savefig(os.path.join(image_path_png, \"shap_summary_beeswarm.png\"), dpi=600)\n",
    "plt.savefig(os.path.join(image_path_svg, \"shap_summary_beeswarm.png\"), dpi=600)"
   ]
  },
  {
   "cell_type": "markdown",
   "metadata": {},
   "source": [
    "### SHAP Bar Plot"
   ]
  },
  {
   "cell_type": "code",
   "execution_count": null,
   "metadata": {},
   "outputs": [],
   "source": [
    "# Step 6b: SHAP bar plot (mean |SHAP value| for each feature)\n",
    "shap.summary_plot(\n",
    "    shap_values,\n",
    "    X_sample,\n",
    "    feature_names=model_svm.get_feature_names(),\n",
    "    plot_type=\"bar\",\n",
    "    show=False,\n",
    ")\n",
    "\n",
    "plt.savefig(os.path.join(image_path_png, \"shap_summary_bar.png\"), dpi=600)\n",
    "plt.savefig(os.path.join(image_path_svg, \"shap_summary_bar.png\"), dpi=600)"
   ]
  },
  {
   "cell_type": "markdown",
   "metadata": {},
   "source": [
    "## Plot SVM Decision Boundary"
   ]
  },
  {
   "cell_type": "code",
   "execution_count": null,
   "metadata": {},
   "outputs": [],
   "source": [
    "from project_functions import plot_svm_decision_boundary_2d\n",
    "\n",
    "plot_svm_decision_boundary_2d(\n",
    "    # model=model_svm,\n",
    "    X=X,\n",
    "    y=y,\n",
    "    feature_pair=(\"Intraoperative_Blood_Loss_ml\", \"Surgical_Technique\"),\n",
    "    title=\"SVM Decision Boundary: Intraoperative Blood Loss (ml) vs. Surgical Technique\",\n",
    "    image_path_svg=os.path.join(image_path_svg, \"svm_decision_surface_2d.svg\"),\n",
    ")"
   ]
  },
  {
   "cell_type": "code",
   "execution_count": null,
   "metadata": {},
   "outputs": [],
   "source": [
    "from project_functions import plot_svm_decision_boundary_2d\n",
    "\n",
    "plot_svm_decision_boundary_2d(\n",
    "    # model=model_svm,\n",
    "    X=X,\n",
    "    y=y,\n",
    "    feature_pair=(\"Intraoperative_Blood_Loss_ml\", \"Surgical_Technique\"),\n",
    "    title=\"SVM Decision Boundary: Intraoperative Blood Loss (ml) vs. Surgical Technique\",\n",
    "    margin=True,\n",
    "    image_path_svg=os.path.join(image_path_svg, \"svm_decision_surface_2d_margin.svg\"),\n",
    ")"
   ]
  },
  {
   "cell_type": "markdown",
   "metadata": {},
   "source": [
    "<!-- ## Model Evaluation -->"
   ]
  },
  {
   "cell_type": "code",
   "execution_count": null,
   "metadata": {},
   "outputs": [],
   "source": [
    "from project_functions import plot_svm_decision_surface_3d\n",
    "\n",
    "plot_svm_decision_surface_3d(\n",
    "    X=X,\n",
    "    y=y,\n",
    "    # figsize=(6, 10),\n",
    "    feature_pair=(\"Intraoperative_Blood_Loss_ml\", \"Surgical_Technique\"),\n",
    "    title=\"3D SVM Decision Boundary (Intraoperative Blood Loss (ml) vs. Surgical Technique)\",\n",
    "    image_path_png=os.path.join(image_path_png, \"svm_decision_surface_3d.png\"),\n",
    "    image_path_svg=os.path.join(image_path_svg, \"svm_decision_surface_3d.svg\"),\n",
    ")"
   ]
  },
  {
   "cell_type": "code",
   "execution_count": null,
   "metadata": {},
   "outputs": [],
   "source": [
    "from project_functions import plot_svm_decision_surface_3d_plotly\n",
    "\n",
    "# Plotly 3D SVM Decision Surface\n",
    "plot_svm_decision_surface_3d_plotly(\n",
    "    X=df,\n",
    "    y=df[\"Bleeding_Edema_Outcome\"],\n",
    "    feature_pair=(\"Intraoperative_Blood_Loss_ml\", \"Surgical_Technique\"),\n",
    "    title=\"Interactive 3D SVM Decision Boundary: Intraoperative Blood Loss (ml) vs. Surgical Technique\",\n",
    "    figsize=(20, 10),\n",
    "    html_path=os.path.join(image_path_svg, \"svm_decision_surface_3d_plotly.html\"),\n",
    ")"
   ]
  },
  {
   "cell_type": "markdown",
   "metadata": {},
   "source": [
    "## Calibration"
   ]
  },
  {
   "cell_type": "code",
   "execution_count": null,
   "metadata": {},
   "outputs": [],
   "source": [
    "# Plot calibration curves in overlay mode\n",
    "from model_metrics import show_calibration_curve\n",
    "\n",
    "show_calibration_curve(\n",
    "    model=pipelines_or_models,\n",
    "    X=X,\n",
    "    y=y,\n",
    "    model_title=model_titles,\n",
    "    overlay=True,\n",
    "    title=\"\",\n",
    "    save_plot=True,\n",
    "    image_path_png=image_path_png,\n",
    "    image_path_svg=image_path_svg,\n",
    "    text_wrap=40,\n",
    "    curve_kwgs={\n",
    "        \"Logistic Regression\": {\"color\": \"blue\", \"linewidth\": 1},\n",
    "        \"Support Vector Machines\": {\n",
    "            \"color\": \"red\",\n",
    "            # \"linestyle\": \"--\",\n",
    "            \"linewidth\": 1.5,\n",
    "        },\n",
    "        \"Decision Tree\": {\n",
    "            \"color\": \"lightblue\",\n",
    "            \"linestyle\": \"--\",\n",
    "            \"linewidth\": 1.5,\n",
    "        },\n",
    "    },\n",
    "    figsize=(8, 6),\n",
    "    label_fontsize=10,\n",
    "    tick_fontsize=10,\n",
    "    bins=10,\n",
    "    show_brier_score=True,\n",
    "    grid=False,\n",
    "    # gridlines=False,\n",
    "    linestyle_kwgs={\"color\": \"black\"},\n",
    "    dpi=500,\n",
    ")"
   ]
  },
  {
   "cell_type": "markdown",
   "metadata": {},
   "source": [
    "## Confusion Matrices"
   ]
  },
  {
   "cell_type": "code",
   "execution_count": null,
   "metadata": {},
   "outputs": [],
   "source": [
    "from model_metrics import show_confusion_matrix\n",
    "\n",
    "show_confusion_matrix(\n",
    "    model=pipelines_or_models,\n",
    "    X=X,\n",
    "    y=y,\n",
    "    model_title=model_titles,\n",
    "    model_threshold=[thresholds],\n",
    "    # class_labels=[\"No Pain\", \"Class 1\"],\n",
    "    cmap=\"Blues\",\n",
    "    text_wrap=40,\n",
    "    save_plot=True,\n",
    "    image_path_png=image_path_png,\n",
    "    image_path_svg=image_path_svg,\n",
    "    grid=True,\n",
    "    n_cols=3,\n",
    "    n_rows=1,\n",
    "    figsize=(4, 4),\n",
    "    show_colorbar=False,\n",
    "    label_fontsize=14,\n",
    "    tick_fontsize=12,\n",
    "    inner_fontsize=12,\n",
    "    class_report=True,\n",
    "    # thresholds=thresholds,\n",
    "    # custom_threshold=0.5,\n",
    "    # labels=False,\n",
    ")"
   ]
  },
  {
   "cell_type": "markdown",
   "metadata": {},
   "source": [
    "## ROC AUC Curves"
   ]
  },
  {
   "cell_type": "code",
   "execution_count": null,
   "metadata": {},
   "outputs": [],
   "source": [
    "from model_metrics import show_roc_curve\n",
    "\n",
    "# Plot ROC curves\n",
    "show_roc_curve(\n",
    "    model=pipelines_or_models,\n",
    "    X=X,\n",
    "    y=y,\n",
    "    overlay=False,\n",
    "    model_title=model_titles,\n",
    "    decimal_places=3,\n",
    "    # n_cols=3,\n",
    "    # n_rows=1,\n",
    "    # curve_kwgs={\n",
    "    #     \"Logistic Regression\": {\"color\": \"blue\", \"linewidth\": 2},\n",
    "    #     \"SVM\": {\"color\": \"red\", \"linestyle\": \"--\", \"linewidth\": 1.5},\n",
    "    # },\n",
    "    # linestyle_kwgs={\"color\": \"grey\", \"linestyle\": \"--\"},\n",
    "    save_plot=True,\n",
    "    grid=True,\n",
    "    n_cols=3,\n",
    "    figsize=(12, 4),\n",
    "    # label_fontsize=16,\n",
    "    # tick_fontsize=16,\n",
    "    image_path_png=image_path_png,\n",
    "    image_path_svg=image_path_svg,\n",
    "    # gridlines=False,\n",
    ")"
   ]
  },
  {
   "cell_type": "code",
   "execution_count": null,
   "metadata": {},
   "outputs": [],
   "source": [
    "show_roc_curve(\n",
    "    model=pipelines_or_models,\n",
    "    X=X,\n",
    "    y=y,\n",
    "    overlay=True,\n",
    "    model_title=model_titles,\n",
    "    title=\"AUC ROC - All Models\",\n",
    "    curve_kwgs={\n",
    "        \"Logistic Regression\": {\"color\": \"blue\", \"linewidth\": 1},\n",
    "        \"Random Forest\": {\"color\": \"lightblue\", \"linewidth\": 1},\n",
    "        \"Support Vector Machines\": {\n",
    "            \"color\": \"red\",\n",
    "            \"linestyle\": \"-\",\n",
    "            \"linewidth\": 2,\n",
    "        },\n",
    "    },\n",
    "    linestyle_kwgs={\"color\": \"grey\", \"linestyle\": \"--\"},\n",
    "    save_plot=True,\n",
    "    grid=False,\n",
    "    decimal_places=3,\n",
    "    figsize=(8, 6),\n",
    "    # gridlines=False,\n",
    "    label_fontsize=16,\n",
    "    tick_fontsize=13,\n",
    "    image_path_png=image_path_png,\n",
    "    image_path_svg=image_path_svg,\n",
    "    dpi=500,\n",
    ")"
   ]
  },
  {
   "cell_type": "markdown",
   "metadata": {},
   "source": [
    "## Precision-Recall Curves"
   ]
  },
  {
   "cell_type": "code",
   "execution_count": null,
   "metadata": {},
   "outputs": [],
   "source": [
    "from model_metrics import show_pr_curve\n",
    "\n",
    "# Plot PR curves\n",
    "show_pr_curve(\n",
    "    model=pipelines_or_models,\n",
    "    X=X,\n",
    "    y=y,\n",
    "    # x_label=\"Hello\",\n",
    "    model_title=model_titles,\n",
    "    decimal_places=3,\n",
    "    overlay=False,\n",
    "    grid=True,\n",
    "    save_plot=True,\n",
    "    image_path_png=image_path_png,\n",
    "    image_path_svg=image_path_svg,\n",
    "    figsize=(12, 4),\n",
    "    n_cols=3,\n",
    "    # tick_fontsize=16,\n",
    "    # label_fontsize=16,\n",
    "    # grid=True,\n",
    "    # gridlines=False,\n",
    ")"
   ]
  },
  {
   "cell_type": "code",
   "execution_count": null,
   "metadata": {},
   "outputs": [],
   "source": [
    "show_pr_curve(\n",
    "    model=pipelines_or_models,\n",
    "    X=X,\n",
    "    y=y,\n",
    "    overlay=True,\n",
    "    model_title=model_titles,\n",
    "    title=\"Precision-Recall - All Models\",\n",
    "    curve_kwgs={\n",
    "        \"Logistic Regression\": {\"color\": \"blue\", \"linewidth\": 1},\n",
    "        \"Random Forest\": {\"color\": \"lightblue\", \"linewidth\": 1},\n",
    "        \"Support Vector Machines\": {\n",
    "            \"color\": \"red\",\n",
    "            \"linestyle\": \"-\",\n",
    "            \"linewidth\": 2,\n",
    "        },\n",
    "    },\n",
    "    save_plot=True,\n",
    "    grid=False,\n",
    "    decimal_places=3,\n",
    "    figsize=(8, 6),\n",
    "    # gridlines=False,\n",
    "    label_fontsize=16,\n",
    "    tick_fontsize=13,\n",
    "    image_path_png=image_path_png,\n",
    "    image_path_svg=image_path_svg,\n",
    "    dpi=500,\n",
    ")"
   ]
  }
 ],
 "metadata": {
  "kernelspec": {
   "display_name": "venv_circ_311",
   "language": "python",
   "name": "python3"
  },
  "language_info": {
   "codemirror_mode": {
    "name": "ipython",
    "version": 3
   },
   "file_extension": ".py",
   "mimetype": "text/x-python",
   "name": "python",
   "nbconvert_exporter": "python",
   "pygments_lexer": "ipython3",
   "version": "3.11.11"
  }
 },
 "nbformat": 4,
 "nbformat_minor": 2
}
