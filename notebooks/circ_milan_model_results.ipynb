{
 "cells": [
  {
   "cell_type": "markdown",
   "metadata": {},
   "source": [
    "# Modeling"
   ]
  },
  {
   "cell_type": "markdown",
   "metadata": {},
   "source": [
    "## Import Requisite Libraries"
   ]
  },
  {
   "cell_type": "code",
   "execution_count": null,
   "metadata": {},
   "outputs": [],
   "source": [
    "######################## Standard Library Imports ##############################\n",
    "import pandas as pd\n",
    "import numpy as np\n",
    "import os\n",
    "import sys\n",
    "\n",
    "from eda_toolkit import ensure_directory, generate_table1\n",
    "\n",
    "######################## Modeling Library Imports ##############################\n",
    "import shap\n",
    "from model_tuner.pickleObjects import loadObjects\n",
    "import model_tuner\n",
    "import eda_toolkit\n",
    "from sklearn.decomposition import PCA\n",
    "from sklearn.preprocessing import LabelEncoder\n",
    "import matplotlib.pyplot as plt\n",
    "\n",
    "\n",
    "# Add the parent directory to sys.path to access 'functions.py'\n",
    "sys.path.append(os.path.join(os.pardir))\n",
    "\n",
    "print(\n",
    "    f\"This project uses: \\n \\n Python {sys.version.split()[0]} \\n model_tuner \"\n",
    "    f\"{model_tuner.__version__} \\n eda_toolkit {eda_toolkit.__version__}\"\n",
    ")"
   ]
  },
  {
   "cell_type": "markdown",
   "metadata": {},
   "source": [
    "## Set Paths & Read in the Data"
   ]
  },
  {
   "cell_type": "code",
   "execution_count": null,
   "metadata": {},
   "outputs": [],
   "source": [
    "# Define your base paths\n",
    "# `base_path`` represents the parent directory of your current working directory\n",
    "base_path = os.path.join(os.pardir)\n",
    "# Go up one level from 'notebooks' to the parent directory, then into the 'data' folder\n",
    "\n",
    "data_path = os.path.join(os.pardir, \"data\")\n",
    "image_path_png = os.path.join(base_path, \"images\", \"png_images\", \"modeling\")\n",
    "image_path_svg = os.path.join(base_path, \"images\", \"svg_images\", \"modeling\")\n",
    "\n",
    "# Use the function to ensure the 'data' directory exists\n",
    "ensure_directory(data_path)\n",
    "ensure_directory(image_path_png)\n",
    "ensure_directory(image_path_svg)"
   ]
  },
  {
   "cell_type": "code",
   "execution_count": null,
   "metadata": {},
   "outputs": [],
   "source": [
    "data_path = \"../data/processed/\"\n",
    "model_path = \"../mlruns/models/\""
   ]
  },
  {
   "cell_type": "code",
   "execution_count": null,
   "metadata": {},
   "outputs": [],
   "source": [
    "df = pd.read_parquet(os.path.join(data_path, \"X.parquet\"))  # Change delimiter as needed\n",
    "df.head()"
   ]
  },
  {
   "cell_type": "code",
   "execution_count": null,
   "metadata": {},
   "outputs": [],
   "source": [
    "df.columns.to_list()"
   ]
  },
  {
   "cell_type": "code",
   "execution_count": null,
   "metadata": {},
   "outputs": [],
   "source": [
    "# create bins for age along with labels such that age as a continuous series\n",
    "# can be converted to something more manageable for visualization and analysis\n",
    "bin_ages = [18, 30, 40, 50, 60, 70, 80, 90, 100]\n",
    "label_ages = [\n",
    "    \"18-29\",\n",
    "    \"30-39\",\n",
    "    \"40-49\",\n",
    "    \"50-59\",\n",
    "    \"60-69\",\n",
    "    \"70-79\",\n",
    "    \"80-89\",\n",
    "    \"90-99\",\n",
    "]\n",
    "\n",
    "df[\"age_group\"] = pd.cut(\n",
    "    df[\"Age_years\"],\n",
    "    bins=bin_ages,\n",
    "    labels=label_ages,\n",
    "    right=False,  # <-- include left edge, exclude right\n",
    "    include_lowest=True,  # <-- include the lowest value (e.g. 18)\n",
    ")"
   ]
  },
  {
   "cell_type": "code",
   "execution_count": null,
   "metadata": {},
   "outputs": [],
   "source": [
    "df"
   ]
  },
  {
   "cell_type": "code",
   "execution_count": null,
   "metadata": {},
   "outputs": [],
   "source": [
    "df_rename = df.copy()"
   ]
  },
  {
   "cell_type": "code",
   "execution_count": null,
   "metadata": {},
   "outputs": [],
   "source": [
    "df_rename = df_rename.rename(\n",
    "    columns={\n",
    "        \"Intraoperative_Blood_Loss_ml\": \"Intraoperative Blood Loss\",\n",
    "        \"age_group\": \"Age Group\",\n",
    "        \"Surgical_Time_min\": \"Surgical Time (min)\",\n",
    "        \"Intraop_Mean_Heart_Rate_bpm\": \"Intraoperative Mean Heart Rate (BPM)\",\n",
    "    }\n",
    ")"
   ]
  },
  {
   "cell_type": "code",
   "execution_count": null,
   "metadata": {},
   "outputs": [],
   "source": [
    "from eda_toolkit import box_violin_plot\n",
    "\n",
    "metrics_list = [\n",
    "    \"BMI\",\n",
    "    \"Intraoperative Blood Loss\",\n",
    "    \"Intraoperative Mean Heart Rate (BPM)\",\n",
    "    \"Surgical Time (min)\",\n",
    "]\n",
    "metrics_boxplot_comp = [\"Age Group\"]\n",
    "metrics_comp = [\"Age Group\"]\n",
    "\n",
    "box_violin_plot(\n",
    "    df=df_rename,\n",
    "    metrics_list=metrics_list,\n",
    "    metrics_comp=metrics_comp,\n",
    "    image_path_png=image_path_png,\n",
    "    image_path_svg=image_path_svg,\n",
    "    save_plots=True,\n",
    "    show_plot=\"grid\",\n",
    "    show_legend=False,\n",
    "    plot_type=\"boxplot\",\n",
    "    xlabel_rot=90,\n",
    "    text_wrap=50,\n",
    ")"
   ]
  },
  {
   "cell_type": "code",
   "execution_count": null,
   "metadata": {},
   "outputs": [],
   "source": [
    "X = pd.read_parquet(os.path.join(data_path, \"X.parquet\"))\n",
    "y = pd.read_parquet(os.path.join(data_path, \"y_Bleeding_Edema_Outcome.parquet\"))"
   ]
  },
  {
   "cell_type": "code",
   "execution_count": null,
   "metadata": {},
   "outputs": [],
   "source": [
    "df = df.join(y, how=\"inner\", on=\"patient_id\")"
   ]
  },
  {
   "cell_type": "code",
   "execution_count": null,
   "metadata": {},
   "outputs": [],
   "source": [
    "table1_cont = generate_table1(\n",
    "    df,\n",
    "    include_types=\"combined\",\n",
    "    groupby_col=\"Bleeding_Edema_Outcome\",\n",
    "    value_counts=True,\n",
    "    # apply_bonferroni=True,\n",
    "    # apply_bh_fdr=True,\n",
    "    # use_fisher_exact=True,\n",
    "    decimal_places=2,\n",
    ")"
   ]
  },
  {
   "cell_type": "code",
   "execution_count": null,
   "metadata": {},
   "outputs": [],
   "source": [
    "table1_cont"
   ]
  },
  {
   "cell_type": "code",
   "execution_count": null,
   "metadata": {},
   "outputs": [],
   "source": [
    "from graphviz import Digraph\n",
    "\n",
    "# Create revised STROBE diagram with horizontal surgical modality box\n",
    "dot = Digraph(comment=\"Enhanced STROBE Diagram with Modality Highlight\", format=\"png\")\n",
    "dot.attr(rankdir=\"TB\", size=\"10\")\n",
    "\n",
    "# Nodes\n",
    "dot.node(\"A\", \"Patients Evaluated\\n(n = 202)\", shape=\"box\")\n",
    "dot.node(\"B\", \"Excluded: Under 18\\n(n = 8)\", shape=\"box\")\n",
    "dot.node(\"C\", \"Final Study Cohort:\\nAdult Males ≥ 18\\n(n = 194)\", shape=\"box\")\n",
    "dot.node(\n",
    "    \"D\",\n",
    "    \"Data Preprocessing\\n• Feature engineering\\n• Comorbidity filtering\\n• No missing data\",\n",
    "    shape=\"box\",\n",
    ")\n",
    "dot.node(\n",
    "    \"D2\", \"Surgical Modality\\n• Traditional (n = 132)\\n• Laser (n = 62)\", shape=\"box\"\n",
    ")\n",
    "dot.node(\n",
    "    \"E\",\n",
    "    \"Modeling and Evaluation\\n• LR, RF, SVM\\n• 10-fold CV\\n• Balanced class weights\",\n",
    "    shape=\"box\",\n",
    ")\n",
    "dot.node(\n",
    "    \"F\",\n",
    "    \"Model Calibration\\n• Platt scaling\\n• Threshold tuning (β = 1, 2)\",\n",
    "    shape=\"box\",\n",
    ")\n",
    "dot.node(\n",
    "    \"G\",\n",
    "    \"Primary Outcome\\nBleeding, Edema, Pain, or Infection\\nwithin 7 days\",\n",
    "    shape=\"box\",\n",
    ")\n",
    "dot.node(\"H\", \"Final Sample Used for Modeling\\n(n = 194, 100%)\", shape=\"box\")\n",
    "\n",
    "# Edges (one at a time due to prior error)\n",
    "dot.edge(\"A\", \"B\")\n",
    "dot.edge(\"B\", \"C\")\n",
    "dot.edge(\"C\", \"D\")\n",
    "dot.edge(\"D\", \"D2\")\n",
    "dot.edge(\"D2\", \"E\")\n",
    "dot.edge(\"E\", \"F\")\n",
    "dot.edge(\"F\", \"G\")\n",
    "dot.edge(\"G\", \"H\")\n",
    "\n",
    "# Render diagram\n",
    "dot.render(\"strobe_modality_emphasized_final\", view=True)"
   ]
  },
  {
   "cell_type": "code",
   "execution_count": null,
   "metadata": {},
   "outputs": [],
   "source": [
    "table1_cont.rename(\n",
    "    columns={\n",
    "        \"1 (n = 62)\": \"Laser Circumcision (n=62)\",\n",
    "        \"0 (n = 132)\": \"Traditional Circumcision (n=132)\",\n",
    "    },\n",
    "    inplace=True,\n",
    ")"
   ]
  },
  {
   "cell_type": "code",
   "execution_count": null,
   "metadata": {},
   "outputs": [],
   "source": [
    "table1_cont"
   ]
  },
  {
   "cell_type": "code",
   "execution_count": null,
   "metadata": {},
   "outputs": [],
   "source": [
    "table1_cont.to_clipboard()"
   ]
  },
  {
   "cell_type": "code",
   "execution_count": null,
   "metadata": {},
   "outputs": [],
   "source": [
    "y.value_counts()"
   ]
  },
  {
   "cell_type": "code",
   "execution_count": null,
   "metadata": {},
   "outputs": [],
   "source": [
    "X.columns.to_list()"
   ]
  },
  {
   "cell_type": "code",
   "execution_count": null,
   "metadata": {},
   "outputs": [],
   "source": [
    "model_lr = loadObjects(\n",
    "    os.path.join(\n",
    "        model_path,\n",
    "        \"./849533074301396881/3aae4d2c72274d7599395fe33f08621d/artifacts/lr_Bleeding_Edema_Outcome/model.pkl\",\n",
    "    )\n",
    ")\n",
    "\n",
    "model_rf = loadObjects(\n",
    "    os.path.join(\n",
    "        model_path,\n",
    "        \"./849533074301396881/d5baeda4999a48788a09423c3f9a6ae0/artifacts/rf_Bleeding_Edema_Outcome/model.pkl\",\n",
    "    )\n",
    ")\n",
    "\n",
    "model_svm = loadObjects(\n",
    "    os.path.join(\n",
    "        model_path,\n",
    "        \"./849533074301396881/e99151a22e1046e2a4bf4a08b562759c/artifacts/svm_Bleeding_Edema_Outcome/model.pkl\",\n",
    "    )\n",
    ")"
   ]
  },
  {
   "cell_type": "code",
   "execution_count": null,
   "metadata": {},
   "outputs": [],
   "source": [
    "pipelines_or_models = [model_lr, model_rf, model_svm]\n",
    "\n",
    "# Model titles\n",
    "model_titles = [\n",
    "    \"Logistic Regression\",\n",
    "    \"Random Forest Classifier\",\n",
    "    \"Support Vector Machines\",\n",
    "]\n",
    "\n",
    "\n",
    "thresholds = {\n",
    "    \"Logistic Regression\": next(iter(model_lr.threshold.values())),\n",
    "    \"Random Forest Classifier\": next(iter(model_rf.threshold.values())),\n",
    "    \"Support Vector Machines\": next(iter(model_svm.threshold.values())),\n",
    "}"
   ]
  },
  {
   "cell_type": "code",
   "execution_count": null,
   "metadata": {},
   "outputs": [],
   "source": [
    "for col in X.columns:\n",
    "    if col.startswith(\"BMI_\"):\n",
    "        print(f\"Value Counts for column {col}:\\n\")\n",
    "        print(X[col].value_counts())\n",
    "        print(\"\\n\")"
   ]
  },
  {
   "cell_type": "markdown",
   "metadata": {},
   "source": [
    "## Summarize Model Performance"
   ]
  },
  {
   "cell_type": "code",
   "execution_count": null,
   "metadata": {},
   "outputs": [],
   "source": [
    "pipelines_or_models"
   ]
  },
  {
   "cell_type": "code",
   "execution_count": null,
   "metadata": {},
   "outputs": [],
   "source": [
    "from model_metrics import summarize_model_performance\n",
    "\n",
    "table3 = summarize_model_performance(\n",
    "    model=pipelines_or_models,\n",
    "    X=X,\n",
    "    y=y,\n",
    "    model_title=model_titles,\n",
    "    model_threshold=thresholds,\n",
    "    return_df=True,\n",
    ")"
   ]
  },
  {
   "cell_type": "code",
   "execution_count": null,
   "metadata": {},
   "outputs": [],
   "source": [
    "table3"
   ]
  },
  {
   "cell_type": "code",
   "execution_count": null,
   "metadata": {},
   "outputs": [],
   "source": [
    "from model_tuner import evaluate_bootstrap_metrics"
   ]
  },
  {
   "cell_type": "code",
   "execution_count": null,
   "metadata": {},
   "outputs": [],
   "source": [
    "model_svm"
   ]
  },
  {
   "cell_type": "markdown",
   "metadata": {},
   "source": [
    "## SHAP Summary Plot"
   ]
  },
  {
   "cell_type": "code",
   "execution_count": null,
   "metadata": {},
   "outputs": [],
   "source": [
    "# Step 1: Get transformed features using model's preprocessing pipeline\n",
    "X_transformed = model_svm.get_preprocessing_and_feature_selection_pipeline().transform(\n",
    "    X\n",
    ")\n",
    "\n",
    "# Optional: Sampling for speed (or just use X_transformed if it's small)\n",
    "sample_size = 100\n",
    "X_sample = shap.utils.sample(X_transformed, sample_size, random_state=42)\n",
    "\n",
    "# Step 2: Get final fitted model (SVC in your pipeline)\n",
    "final_model = model_svm.estimator.named_steps[model_svm.estimator_name]\n",
    "\n",
    "\n",
    "# Step 3: Define a pred. function that returns only the probability for class 1\n",
    "def model_predict(X):\n",
    "    return final_model.predict_proba(X)[:, 1]\n",
    "\n",
    "\n",
    "# Step 4: Create SHAP explainer\n",
    "explainer = shap.KernelExplainer(\n",
    "    model_predict, X_sample, feature_names=model_svm.get_feature_names()\n",
    ")\n",
    "\n",
    "# Step 5: Compute SHAP values for the full dataset or sample\n",
    "shap_values = explainer.shap_values(X_sample)  # can use X_transformed instead"
   ]
  },
  {
   "cell_type": "code",
   "execution_count": null,
   "metadata": {},
   "outputs": [],
   "source": [
    "# Step 6a: SHAP beeswarm plot (default)\n",
    "shap.summary_plot(\n",
    "    shap_values,\n",
    "    X_sample,\n",
    "    feature_names=model_svm.get_feature_names(),\n",
    "    show=False,\n",
    ")\n",
    "\n",
    "plt.savefig(\"shap_summary_beeswarm.png\", dpi=600)"
   ]
  },
  {
   "cell_type": "code",
   "execution_count": null,
   "metadata": {},
   "outputs": [],
   "source": [
    "# Step 6b: SHAP bar plot (mean |SHAP value| for each feature)\n",
    "shap.summary_plot(\n",
    "    shap_values,\n",
    "    X_sample,\n",
    "    feature_names=model_svm.get_feature_names(),\n",
    "    plot_type=\"bar\",\n",
    "    show=False,\n",
    ")\n",
    "\n",
    "plt.savefig(\"shap_summary_bar.png\", dpi=600)"
   ]
  },
  {
   "cell_type": "markdown",
   "metadata": {},
   "source": [
    "## Plot SVM Decision Boundary"
   ]
  },
  {
   "cell_type": "code",
   "execution_count": null,
   "metadata": {},
   "outputs": [],
   "source": [
    "from circ_milan.project_functions import plot_svm_decision_boundary_2d\n",
    "\n",
    "plot_svm_decision_boundary_2d(\n",
    "    model=model_svm,\n",
    "    X=X,\n",
    "    y=y,\n",
    "    feature_pair=(\"Intraoperative_Blood_Loss_ml\", \"Surgical_Technique\"),\n",
    "    title=\"Temp SVC on 2 Features\",\n",
    ")"
   ]
  },
  {
   "cell_type": "markdown",
   "metadata": {},
   "source": [
    "## Model Evaluation"
   ]
  },
  {
   "cell_type": "markdown",
   "metadata": {},
   "source": [
    "## Calibration"
   ]
  },
  {
   "cell_type": "code",
   "execution_count": null,
   "metadata": {},
   "outputs": [],
   "source": [
    "# Plot calibration curves in overlay mode\n",
    "from model_metrics import show_calibration_curve\n",
    "\n",
    "show_calibration_curve(\n",
    "    model=pipelines_or_models,\n",
    "    X=X,\n",
    "    y=y,\n",
    "    model_title=model_titles,\n",
    "    overlay=True,\n",
    "    title=\"\",\n",
    "    save_plot=True,\n",
    "    image_path_png=image_path_png,\n",
    "    image_path_svg=image_path_svg,\n",
    "    text_wrap=40,\n",
    "    curve_kwgs={\n",
    "        \"Logistic Regression\": {\"color\": \"blue\", \"linewidth\": 1},\n",
    "        \"Support Vector Machines\": {\n",
    "            \"color\": \"red\",\n",
    "            # \"linestyle\": \"--\",\n",
    "            \"linewidth\": 1.5,\n",
    "        },\n",
    "        \"Decision Tree\": {\n",
    "            \"color\": \"lightblue\",\n",
    "            \"linestyle\": \"--\",\n",
    "            \"linewidth\": 1.5,\n",
    "        },\n",
    "    },\n",
    "    figsize=(8, 6),\n",
    "    label_fontsize=10,\n",
    "    tick_fontsize=10,\n",
    "    bins=10,\n",
    "    show_brier_score=True,\n",
    "    grid=False,\n",
    "    # gridlines=False,\n",
    "    linestyle_kwgs={\"color\": \"black\"},\n",
    "    dpi=500,\n",
    ")"
   ]
  },
  {
   "cell_type": "markdown",
   "metadata": {},
   "source": [
    "## Confusion Matrices"
   ]
  },
  {
   "cell_type": "code",
   "execution_count": null,
   "metadata": {},
   "outputs": [],
   "source": [
    "from model_metrics import show_confusion_matrix\n",
    "\n",
    "show_confusion_matrix(\n",
    "    model=pipelines_or_models,\n",
    "    X=X,\n",
    "    y=y,\n",
    "    model_title=model_titles,\n",
    "    model_threshold=[thresholds],\n",
    "    # class_labels=[\"No Pain\", \"Class 1\"],\n",
    "    cmap=\"Blues\",\n",
    "    text_wrap=40,\n",
    "    save_plot=True,\n",
    "    image_path_png=image_path_png,\n",
    "    image_path_svg=image_path_svg,\n",
    "    grid=True,\n",
    "    n_cols=3,\n",
    "    n_rows=1,\n",
    "    figsize=(4, 4),\n",
    "    show_colorbar=False,\n",
    "    label_fontsize=14,\n",
    "    tick_fontsize=12,\n",
    "    inner_fontsize=12,\n",
    "    class_report=True,\n",
    "    # thresholds=thresholds,\n",
    "    # custom_threshold=0.5,\n",
    "    # labels=False,\n",
    ")"
   ]
  },
  {
   "cell_type": "markdown",
   "metadata": {},
   "source": [
    "## ROC AUC Curves"
   ]
  },
  {
   "cell_type": "code",
   "execution_count": null,
   "metadata": {},
   "outputs": [],
   "source": [
    "from model_metrics import show_roc_curve\n",
    "\n",
    "# Plot ROC curves\n",
    "show_roc_curve(\n",
    "    model=pipelines_or_models,\n",
    "    X=X,\n",
    "    y=y,\n",
    "    overlay=False,\n",
    "    model_title=model_titles,\n",
    "    decimal_places=3,\n",
    "    # n_cols=3,\n",
    "    # n_rows=1,\n",
    "    # curve_kwgs={\n",
    "    #     \"Logistic Regression\": {\"color\": \"blue\", \"linewidth\": 2},\n",
    "    #     \"SVM\": {\"color\": \"red\", \"linestyle\": \"--\", \"linewidth\": 1.5},\n",
    "    # },\n",
    "    # linestyle_kwgs={\"color\": \"grey\", \"linestyle\": \"--\"},\n",
    "    save_plot=True,\n",
    "    grid=True,\n",
    "    n_cols=3,\n",
    "    figsize=(12, 4),\n",
    "    # label_fontsize=16,\n",
    "    # tick_fontsize=16,\n",
    "    image_path_png=image_path_png,\n",
    "    image_path_svg=image_path_svg,\n",
    "    # gridlines=False,\n",
    ")"
   ]
  },
  {
   "cell_type": "code",
   "execution_count": null,
   "metadata": {},
   "outputs": [],
   "source": [
    "show_roc_curve(\n",
    "    model=pipelines_or_models,\n",
    "    X=X,\n",
    "    y=y,\n",
    "    overlay=True,\n",
    "    model_title=model_titles,\n",
    "    title=\"AUC ROC - All Models\",\n",
    "    curve_kwgs={\n",
    "        \"Logistic Regression\": {\"color\": \"blue\", \"linewidth\": 1},\n",
    "        \"Random Forest\": {\"color\": \"lightblue\", \"linewidth\": 1},\n",
    "        \"Support Vector Machines\": {\n",
    "            \"color\": \"red\",\n",
    "            \"linestyle\": \"-\",\n",
    "            \"linewidth\": 2,\n",
    "        },\n",
    "    },\n",
    "    linestyle_kwgs={\"color\": \"grey\", \"linestyle\": \"--\"},\n",
    "    save_plot=True,\n",
    "    grid=False,\n",
    "    decimal_places=3,\n",
    "    figsize=(8, 6),\n",
    "    # gridlines=False,\n",
    "    label_fontsize=16,\n",
    "    tick_fontsize=13,\n",
    "    image_path_png=image_path_png,\n",
    "    image_path_svg=image_path_svg,\n",
    "    dpi=500,\n",
    ")"
   ]
  },
  {
   "cell_type": "markdown",
   "metadata": {},
   "source": [
    "## Precision-Recall Curves"
   ]
  },
  {
   "cell_type": "code",
   "execution_count": null,
   "metadata": {},
   "outputs": [],
   "source": [
    "from model_metrics import show_pr_curve\n",
    "\n",
    "# Plot PR curves\n",
    "show_pr_curve(\n",
    "    model=pipelines_or_models,\n",
    "    X=X,\n",
    "    y=y,\n",
    "    # x_label=\"Hello\",\n",
    "    model_title=model_titles,\n",
    "    decimal_places=3,\n",
    "    overlay=False,\n",
    "    grid=True,\n",
    "    save_plot=True,\n",
    "    image_path_png=image_path_png,\n",
    "    image_path_svg=image_path_svg,\n",
    "    figsize=(12, 4),\n",
    "    n_cols=3,\n",
    "    # tick_fontsize=16,\n",
    "    # label_fontsize=16,\n",
    "    # grid=True,\n",
    "    # gridlines=False,\n",
    ")"
   ]
  },
  {
   "cell_type": "code",
   "execution_count": null,
   "metadata": {},
   "outputs": [],
   "source": [
    "show_pr_curve(\n",
    "    model=pipelines_or_models,\n",
    "    X=X,\n",
    "    y=y,\n",
    "    overlay=True,\n",
    "    model_title=model_titles,\n",
    "    title=\"Precision-Recall - All Models\",\n",
    "    curve_kwgs={\n",
    "        \"Logistic Regression\": {\"color\": \"blue\", \"linewidth\": 1},\n",
    "        \"Random Forest\": {\"color\": \"lightblue\", \"linewidth\": 1},\n",
    "        \"Support Vector Machines\": {\n",
    "            \"color\": \"red\",\n",
    "            \"linestyle\": \"-\",\n",
    "            \"linewidth\": 2,\n",
    "        },\n",
    "    },\n",
    "    save_plot=True,\n",
    "    grid=False,\n",
    "    decimal_places=3,\n",
    "    figsize=(8, 6),\n",
    "    # gridlines=False,\n",
    "    label_fontsize=16,\n",
    "    tick_fontsize=13,\n",
    "    image_path_png=image_path_png,\n",
    "    image_path_svg=image_path_svg,\n",
    "    dpi=500,\n",
    ")"
   ]
  },
  {
   "cell_type": "markdown",
   "metadata": {},
   "source": [
    "## Partial Dependence"
   ]
  },
  {
   "cell_type": "code",
   "execution_count": null,
   "metadata": {},
   "outputs": [],
   "source": [
    "# If X is a DataFrame\n",
    "feature_names = X.columns\n",
    "\n",
    "# If X is a NumPy array\n",
    "feature_names = [f\"feature_{i}\" for i in range(X.shape[1])]"
   ]
  },
  {
   "cell_type": "code",
   "execution_count": null,
   "metadata": {},
   "outputs": [],
   "source": [
    "from model_metrics import plot_2d_pdp\n",
    "\n",
    "plot_2d_pdp(\n",
    "    model=model_svm.estimator,\n",
    "    X_train=X,  # Ensure this is the corrected DataFrame with valid feature names\n",
    "    feature_names=X.columns.to_list(),  # Use the aligned feature names\n",
    "    features=[\n",
    "        \"Age_years\",\n",
    "        \"BMI\",\n",
    "        # \"Intraoperative_Blood_Loss_ml\",\n",
    "        \"Intraop_Mean_Heart_Rate_bpm\",\n",
    "        \"Intraop_Mean_Pulse_Ox_Percent\",\n",
    "        (\"Surgical_Technique\", \"Age_years\"),\n",
    "    ],\n",
    "    title=\"PDP of house value on CA non-location features\",\n",
    "    grid_figsize=(14, 10),\n",
    "    individual_figsize=(12, 4),\n",
    "    label_fontsize=14,\n",
    "    tick_fontsize=12,\n",
    "    text_wrap=120,\n",
    "    plot_type=\"grid\",\n",
    "    image_path_png=image_path_png,\n",
    "    save_plots=\"grid\",\n",
    ")"
   ]
  },
  {
   "cell_type": "code",
   "execution_count": null,
   "metadata": {},
   "outputs": [],
   "source": [
    "model_svm.get_feature_names()"
   ]
  },
  {
   "cell_type": "code",
   "execution_count": null,
   "metadata": {},
   "outputs": [],
   "source": [
    "from model_metrics import plot_3d_pdp\n",
    "\n",
    "plot_3d_pdp(\n",
    "    model=model_svm.estimator,\n",
    "    dataframe=X,\n",
    "    feature_names=[\"Surgical_Time_min\", \"Surgical_Technique\"],\n",
    "    # x_label=\"House Age\",\n",
    "    # y_label=\"Average Occupancy\",\n",
    "    # z_label=\"Partial Dependence\",\n",
    "    title=\"3D Partial Dependence Plot of Surgical Time in Minutes vs. Surgical Technique\",\n",
    "    html_file_path=image_path_png,\n",
    "    # image_filename=\"3d_pdp\",\n",
    "    save_plots=\"html\",\n",
    "    html_file_name=\"3d_pdp.html\",\n",
    "    plot_type=\"static\",\n",
    "    text_wrap=80,\n",
    "    figsize=(10, 10),\n",
    "    zoom_out_factor=1.1,\n",
    "    image_path_png=image_path_png,\n",
    "    image_path_svg=image_path_svg,\n",
    "    # grid_resolution=30,\n",
    "    # label_fontsize=8,\n",
    "    # tick_fontsize=6,\n",
    "    # title_x=0.38,\n",
    "    # top_margin=10,\n",
    "    # right_margin=50,\n",
    "    # left_margin=50,\n",
    "    # cbar_x=0.9,\n",
    "    # cbar_thickness=25,\n",
    "    # show_modebar=False,\n",
    "    # enable_zoom=True,\n",
    ")"
   ]
  },
  {
   "cell_type": "code",
   "execution_count": null,
   "metadata": {},
   "outputs": [],
   "source": [
    "df.columns"
   ]
  },
  {
   "cell_type": "code",
   "execution_count": null,
   "metadata": {},
   "outputs": [],
   "source": [
    "from model_metrics import plot_3d_pdp\n",
    "\n",
    "plot_3d_pdp(\n",
    "    model=model_svm.estimator,\n",
    "    dataframe=X,\n",
    "    feature_names=[\"Surgical_Time_min\", \"Surgical_Technique\"],\n",
    "    # x_label=\"House Age\",\n",
    "    # y_label=\"Average Occupancy\",\n",
    "    # z_label=\"Partial Dependence\",\n",
    "    title=\"3D Partial Dependence Plot of House Age vs. Average Occupancy\",\n",
    "    html_file_path=image_path_png,\n",
    "    # image_filename=\"3d_pdp\",\n",
    "    html_file_name=\"3d_pdp.html\",\n",
    "    plot_type=\"interactive\",\n",
    "    text_wrap=80,\n",
    "    zoom_out_factor=1.1,\n",
    "    # image_path_png=image_path_png,\n",
    "    # image_path_svg=image_path_svg,\n",
    "    # grid_resolution=30,\n",
    "    # label_fontsize=8,\n",
    "    # tick_fontsize=6,\n",
    "    # title_x=0.38,\n",
    "    # top_margin=10,\n",
    "    # right_margin=50,\n",
    "    # left_margin=50,\n",
    "    # cbar_x=0.9,\n",
    "    # cbar_thickness=25,\n",
    "    # show_modebar=False,\n",
    "    # enable_zoom=True,\n",
    ")"
   ]
  }
 ],
 "metadata": {
  "kernelspec": {
   "display_name": "venv_circ_311",
   "language": "python",
   "name": "python3"
  },
  "language_info": {
   "codemirror_mode": {
    "name": "ipython",
    "version": 3
   },
   "file_extension": ".py",
   "mimetype": "text/x-python",
   "name": "python",
   "nbconvert_exporter": "python",
   "pygments_lexer": "ipython3",
   "version": "3.11.11"
  }
 },
 "nbformat": 4,
 "nbformat_minor": 2
}
